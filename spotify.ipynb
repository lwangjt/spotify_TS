{
 "cells": [
  {
   "cell_type": "markdown",
   "metadata": {},
   "source": [
    "# Taylor Swidt in Spotify"
   ]
  },
  {
   "cell_type": "markdown",
   "metadata": {},
   "source": [
    "This project will focus on classification task to predict whether the artist is Taylor Swift or not based on several dimensions.\n",
    "\n",
    "Original Source of dataset: https://www.kaggle.com/datasets/sashankpillai/spotify-top-200-charts-20202021"
   ]
  },
  {
   "cell_type": "markdown",
   "metadata": {},
   "source": [
    "## Motivation\n",
    "\n",
    "Spotify is the most popular streaming service for commercial music. Because Spotify offers both free and premium accounts, it has attracted 489 million across over 180 regions all over the world. The large user population can serve as a representation of the current music trends. All our group members are currently using Spotify and we'd like to explore this Spotify dataset to explore what kinds of factors can influence a song's ability to be in the top 200 weekly global chart on Spotify."
   ]
  },
  {
   "cell_type": "markdown",
   "metadata": {},
   "source": [
    "### Reference\n",
    "\n",
    "Ruby, Daniel. “Spotify Stats 2023 - (Latest Facts, Data, Infographics).” Demand Sage, 23 Feb. 2023, https://www.demandsage.com/spotify-stats/#:~:text=Spotify%20is%20the%20world's%20leading,premium%20subscribers%20across%20180%20regions."
   ]
  },
  {
   "cell_type": "markdown",
   "metadata": {},
   "source": [
    "## Limitations\n",
    "\n",
    "- The original dataset includes songs with up to 11 genres. Because there are many niche genres and many songs have more than one genre. This makes our predictions less accurate\n",
    "- Some observations were lost after cleaning our dataset because they contained null values.\n",
    "- Some variables that we would like add that would lead to interesting insights are:\n",
    "> - Number of likes of a song\n",
    "> - Country that song is most streamed in\n",
    "> - Primary language of lyrics"
   ]
  },
  {
   "cell_type": "markdown",
   "metadata": {},
   "source": [
    "## Data Preparation"
   ]
  },
  {
   "cell_type": "markdown",
   "metadata": {},
   "source": [
    "### Import"
   ]
  },
  {
   "cell_type": "code",
   "execution_count": 1,
   "metadata": {},
   "outputs": [],
   "source": [
    "import pandas as pd\n",
    "import matplotlib.pyplot as plt\n",
    "import seaborn as sns; sns.set()\n",
    "import numpy as np\n",
    "import statsmodels.api as sm\n",
    "import statsmodels.formula.api as smf\n",
    "from sklearn.model_selection import train_test_split\n",
    "from sklearn.metrics import confusion_matrix, roc_curve, roc_auc_score\n",
    "from sklearn.linear_model import Lasso\n",
    "from sklearn.linear_model import Ridge\n",
    "from sklearn.metrics import mean_squared_error\n",
    "from sklearn.linear_model import LassoLarsIC, LogisticRegression"
   ]
  },
  {
   "cell_type": "markdown",
   "metadata": {},
   "source": [
    "### Read-in"
   ]
  },
  {
   "cell_type": "code",
   "execution_count": 2,
   "metadata": {},
   "outputs": [
    {
     "data": {
      "text/html": [
       "<div>\n",
       "<style scoped>\n",
       "    .dataframe tbody tr th:only-of-type {\n",
       "        vertical-align: middle;\n",
       "    }\n",
       "\n",
       "    .dataframe tbody tr th {\n",
       "        vertical-align: top;\n",
       "    }\n",
       "\n",
       "    .dataframe thead th {\n",
       "        text-align: right;\n",
       "    }\n",
       "</style>\n",
       "<table border=\"1\" class=\"dataframe\">\n",
       "  <thead>\n",
       "    <tr style=\"text-align: right;\">\n",
       "      <th></th>\n",
       "      <th>Highest_Charting_Position</th>\n",
       "      <th>Number_of_Times_Charted</th>\n",
       "      <th>Week_of_Highest_Charting</th>\n",
       "      <th>Week_of_Highest_Charting_year</th>\n",
       "      <th>Week_of_Highest_Charting_month</th>\n",
       "      <th>Week_of_Highest_Charting_day</th>\n",
       "      <th>Song_Name</th>\n",
       "      <th>Streams</th>\n",
       "      <th>Artist</th>\n",
       "      <th>Artist_Followers</th>\n",
       "      <th>...</th>\n",
       "      <th>Genre_2</th>\n",
       "      <th>Genre_3</th>\n",
       "      <th>Genre_4</th>\n",
       "      <th>Genre_5</th>\n",
       "      <th>Genre_6</th>\n",
       "      <th>Genre_7</th>\n",
       "      <th>Genre_8</th>\n",
       "      <th>Genre_9</th>\n",
       "      <th>Genre_10</th>\n",
       "      <th>Genre_11</th>\n",
       "    </tr>\n",
       "  </thead>\n",
       "  <tbody>\n",
       "    <tr>\n",
       "      <th>0</th>\n",
       "      <td>8</td>\n",
       "      <td>24</td>\n",
       "      <td>4/2/2021</td>\n",
       "      <td>2021</td>\n",
       "      <td>4</td>\n",
       "      <td>2</td>\n",
       "      <td>Heartbreak Anniversary</td>\n",
       "      <td>8832945</td>\n",
       "      <td>Giveon</td>\n",
       "      <td>1398563</td>\n",
       "      <td>...</td>\n",
       "      <td>r&amp;b</td>\n",
       "      <td>NaN</td>\n",
       "      <td>NaN</td>\n",
       "      <td>NaN</td>\n",
       "      <td>NaN</td>\n",
       "      <td>NaN</td>\n",
       "      <td>NaN</td>\n",
       "      <td>NaN</td>\n",
       "      <td>NaN</td>\n",
       "      <td>NaN</td>\n",
       "    </tr>\n",
       "    <tr>\n",
       "      <th>1</th>\n",
       "      <td>92</td>\n",
       "      <td>2</td>\n",
       "      <td>5/15/2020</td>\n",
       "      <td>2020</td>\n",
       "      <td>5</td>\n",
       "      <td>15</td>\n",
       "      <td>X (with KAROL G)</td>\n",
       "      <td>5018592</td>\n",
       "      <td>Jonas Brothers</td>\n",
       "      <td>5436999</td>\n",
       "      <td>...</td>\n",
       "      <td>dance pop</td>\n",
       "      <td>pop</td>\n",
       "      <td>post-teen pop</td>\n",
       "      <td>NaN</td>\n",
       "      <td>NaN</td>\n",
       "      <td>NaN</td>\n",
       "      <td>NaN</td>\n",
       "      <td>NaN</td>\n",
       "      <td>NaN</td>\n",
       "      <td>NaN</td>\n",
       "    </tr>\n",
       "    <tr>\n",
       "      <th>2</th>\n",
       "      <td>181</td>\n",
       "      <td>1</td>\n",
       "      <td>12/18/2020</td>\n",
       "      <td>2020</td>\n",
       "      <td>12</td>\n",
       "      <td>18</td>\n",
       "      <td>Christmas Tree Farm</td>\n",
       "      <td>6657404</td>\n",
       "      <td>Taylor Swift</td>\n",
       "      <td>42227614</td>\n",
       "      <td>...</td>\n",
       "      <td>post-teen pop</td>\n",
       "      <td>NaN</td>\n",
       "      <td>NaN</td>\n",
       "      <td>NaN</td>\n",
       "      <td>NaN</td>\n",
       "      <td>NaN</td>\n",
       "      <td>NaN</td>\n",
       "      <td>NaN</td>\n",
       "      <td>NaN</td>\n",
       "      <td>NaN</td>\n",
       "    </tr>\n",
       "    <tr>\n",
       "      <th>3</th>\n",
       "      <td>12</td>\n",
       "      <td>29</td>\n",
       "      <td>11/27/2020</td>\n",
       "      <td>2020</td>\n",
       "      <td>11</td>\n",
       "      <td>27</td>\n",
       "      <td>TE MUDASTE</td>\n",
       "      <td>5242347</td>\n",
       "      <td>Bad Bunny</td>\n",
       "      <td>36142273</td>\n",
       "      <td>...</td>\n",
       "      <td>reggaeton</td>\n",
       "      <td>trap latino</td>\n",
       "      <td>NaN</td>\n",
       "      <td>NaN</td>\n",
       "      <td>NaN</td>\n",
       "      <td>NaN</td>\n",
       "      <td>NaN</td>\n",
       "      <td>NaN</td>\n",
       "      <td>NaN</td>\n",
       "      <td>NaN</td>\n",
       "    </tr>\n",
       "    <tr>\n",
       "      <th>4</th>\n",
       "      <td>32</td>\n",
       "      <td>10</td>\n",
       "      <td>1/3/2020</td>\n",
       "      <td>2020</td>\n",
       "      <td>1</td>\n",
       "      <td>3</td>\n",
       "      <td>Futsal Shuffle 2020</td>\n",
       "      <td>5386512</td>\n",
       "      <td>Lil Uzi Vert</td>\n",
       "      <td>11821805</td>\n",
       "      <td>...</td>\n",
       "      <td>philly rap</td>\n",
       "      <td>rap</td>\n",
       "      <td>trap</td>\n",
       "      <td>NaN</td>\n",
       "      <td>NaN</td>\n",
       "      <td>NaN</td>\n",
       "      <td>NaN</td>\n",
       "      <td>NaN</td>\n",
       "      <td>NaN</td>\n",
       "      <td>NaN</td>\n",
       "    </tr>\n",
       "    <tr>\n",
       "      <th>5</th>\n",
       "      <td>109</td>\n",
       "      <td>1</td>\n",
       "      <td>2/21/2020</td>\n",
       "      <td>2020</td>\n",
       "      <td>2</td>\n",
       "      <td>21</td>\n",
       "      <td>Interlude : Shadow</td>\n",
       "      <td>6655856</td>\n",
       "      <td>BTS</td>\n",
       "      <td>37151476</td>\n",
       "      <td>...</td>\n",
       "      <td>k-pop boy group</td>\n",
       "      <td>NaN</td>\n",
       "      <td>NaN</td>\n",
       "      <td>NaN</td>\n",
       "      <td>NaN</td>\n",
       "      <td>NaN</td>\n",
       "      <td>NaN</td>\n",
       "      <td>NaN</td>\n",
       "      <td>NaN</td>\n",
       "      <td>NaN</td>\n",
       "    </tr>\n",
       "  </tbody>\n",
       "</table>\n",
       "<p>6 rows × 41 columns</p>\n",
       "</div>"
      ],
      "text/plain": [
       "   Highest_Charting_Position  Number_of_Times_Charted  \\\n",
       "0                          8                       24   \n",
       "1                         92                        2   \n",
       "2                        181                        1   \n",
       "3                         12                       29   \n",
       "4                         32                       10   \n",
       "5                        109                        1   \n",
       "\n",
       "  Week_of_Highest_Charting  Week_of_Highest_Charting_year  \\\n",
       "0                 4/2/2021                           2021   \n",
       "1                5/15/2020                           2020   \n",
       "2               12/18/2020                           2020   \n",
       "3               11/27/2020                           2020   \n",
       "4                 1/3/2020                           2020   \n",
       "5                2/21/2020                           2020   \n",
       "\n",
       "   Week_of_Highest_Charting_month  Week_of_Highest_Charting_day  \\\n",
       "0                               4                             2   \n",
       "1                               5                            15   \n",
       "2                              12                            18   \n",
       "3                              11                            27   \n",
       "4                               1                             3   \n",
       "5                               2                            21   \n",
       "\n",
       "                Song_Name  Streams          Artist Artist_Followers  ...  \\\n",
       "0  Heartbreak Anniversary  8832945          Giveon          1398563  ...   \n",
       "1        X (with KAROL G)  5018592  Jonas Brothers          5436999  ...   \n",
       "2     Christmas Tree Farm  6657404    Taylor Swift         42227614  ...   \n",
       "3              TE MUDASTE  5242347       Bad Bunny         36142273  ...   \n",
       "4     Futsal Shuffle 2020  5386512    Lil Uzi Vert         11821805  ...   \n",
       "5      Interlude : Shadow  6655856             BTS         37151476  ...   \n",
       "\n",
       "            Genre_2       Genre_3         Genre_4 Genre_5  Genre_6 Genre_7  \\\n",
       "0               r&b           NaN             NaN     NaN      NaN     NaN   \n",
       "1         dance pop           pop   post-teen pop     NaN      NaN     NaN   \n",
       "2     post-teen pop           NaN             NaN     NaN      NaN     NaN   \n",
       "3         reggaeton   trap latino             NaN     NaN      NaN     NaN   \n",
       "4        philly rap           rap            trap     NaN      NaN     NaN   \n",
       "5   k-pop boy group           NaN             NaN     NaN      NaN     NaN   \n",
       "\n",
       "   Genre_8  Genre_9  Genre_10 Genre_11  \n",
       "0      NaN      NaN       NaN      NaN  \n",
       "1      NaN      NaN       NaN      NaN  \n",
       "2      NaN      NaN       NaN      NaN  \n",
       "3      NaN      NaN       NaN      NaN  \n",
       "4      NaN      NaN       NaN      NaN  \n",
       "5      NaN      NaN       NaN      NaN  \n",
       "\n",
       "[6 rows x 41 columns]"
      ]
     },
     "execution_count": 2,
     "metadata": {},
     "output_type": "execute_result"
    }
   ],
   "source": [
    "df_raw = pd.read_csv('spotify_top_200_sample.csv')\n",
    "df_raw.head(6)"
   ]
  },
  {
   "cell_type": "markdown",
   "metadata": {},
   "source": [
    "## Checking Data"
   ]
  },
  {
   "cell_type": "code",
   "execution_count": 3,
   "metadata": {},
   "outputs": [
    {
     "data": {
      "text/plain": [
       "Highest_Charting_Position           int64\n",
       "Number_of_Times_Charted             int64\n",
       "Week_of_Highest_Charting           object\n",
       "Week_of_Highest_Charting_year       int64\n",
       "Week_of_Highest_Charting_month      int64\n",
       "Week_of_Highest_Charting_day        int64\n",
       "Song_Name                          object\n",
       "Streams                             int64\n",
       "Artist                             object\n",
       "Artist_Followers                   object\n",
       "Song_ID                            object\n",
       "Release_Date                       object\n",
       "Release_Date_year                 float64\n",
       "Release_Date_month                 object\n",
       "Release_Date_day                  float64\n",
       "Weeks_Charted                      object\n",
       "Weeks_Charted_year                  int64\n",
       "Weeks_Charted_month                 int64\n",
       "Weeks_Charted_day                   int64\n",
       "Popularity                         object\n",
       "Danceability                       object\n",
       "Energy                             object\n",
       "Loudness                           object\n",
       "Speechiness                        object\n",
       "Acousticness                       object\n",
       "Liveness                           object\n",
       "Tempo                              object\n",
       "Duration_ms                        object\n",
       "Valence                            object\n",
       "Chord                              object\n",
       "Genre_1                            object\n",
       "Genre_2                            object\n",
       "Genre_3                            object\n",
       "Genre_4                            object\n",
       "Genre_5                            object\n",
       "Genre_6                            object\n",
       "Genre_7                            object\n",
       "Genre_8                            object\n",
       "Genre_9                            object\n",
       "Genre_10                           object\n",
       "Genre_11                           object\n",
       "dtype: object"
      ]
     },
     "execution_count": 3,
     "metadata": {},
     "output_type": "execute_result"
    }
   ],
   "source": [
    "df_raw.dtypes"
   ]
  },
  {
   "cell_type": "code",
   "execution_count": 4,
   "metadata": {},
   "outputs": [
    {
     "data": {
      "text/html": [
       "<div>\n",
       "<style scoped>\n",
       "    .dataframe tbody tr th:only-of-type {\n",
       "        vertical-align: middle;\n",
       "    }\n",
       "\n",
       "    .dataframe tbody tr th {\n",
       "        vertical-align: top;\n",
       "    }\n",
       "\n",
       "    .dataframe thead th {\n",
       "        text-align: right;\n",
       "    }\n",
       "</style>\n",
       "<table border=\"1\" class=\"dataframe\">\n",
       "  <thead>\n",
       "    <tr style=\"text-align: right;\">\n",
       "      <th></th>\n",
       "      <th>Highest_Charting_Position</th>\n",
       "      <th>Number_of_Times_Charted</th>\n",
       "      <th>Week_of_Highest_Charting_year</th>\n",
       "      <th>Week_of_Highest_Charting_month</th>\n",
       "      <th>Week_of_Highest_Charting_day</th>\n",
       "      <th>Streams</th>\n",
       "      <th>Artist</th>\n",
       "      <th>Artist_Followers</th>\n",
       "      <th>Release_Date</th>\n",
       "      <th>Release_Date_year</th>\n",
       "      <th>...</th>\n",
       "      <th>Energy</th>\n",
       "      <th>Loudness</th>\n",
       "      <th>Speechiness</th>\n",
       "      <th>Acousticness</th>\n",
       "      <th>Liveness</th>\n",
       "      <th>Tempo</th>\n",
       "      <th>Duration_ms</th>\n",
       "      <th>Valence</th>\n",
       "      <th>Chord</th>\n",
       "      <th>Genre_1</th>\n",
       "    </tr>\n",
       "  </thead>\n",
       "  <tbody>\n",
       "    <tr>\n",
       "      <th>0</th>\n",
       "      <td>8</td>\n",
       "      <td>24</td>\n",
       "      <td>2021</td>\n",
       "      <td>4</td>\n",
       "      <td>2</td>\n",
       "      <td>8832945</td>\n",
       "      <td>Giveon</td>\n",
       "      <td>1398563</td>\n",
       "      <td>3/27/2020</td>\n",
       "      <td>2020.0</td>\n",
       "      <td>...</td>\n",
       "      <td>0.465</td>\n",
       "      <td>-8.964</td>\n",
       "      <td>0.079</td>\n",
       "      <td>0.524</td>\n",
       "      <td>0.303</td>\n",
       "      <td>89.087</td>\n",
       "      <td>198371</td>\n",
       "      <td>0.543</td>\n",
       "      <td>C</td>\n",
       "      <td>pop</td>\n",
       "    </tr>\n",
       "    <tr>\n",
       "      <th>1</th>\n",
       "      <td>92</td>\n",
       "      <td>2</td>\n",
       "      <td>2020</td>\n",
       "      <td>5</td>\n",
       "      <td>15</td>\n",
       "      <td>5018592</td>\n",
       "      <td>Jonas Brothers</td>\n",
       "      <td>5436999</td>\n",
       "      <td>5/15/2020</td>\n",
       "      <td>2020.0</td>\n",
       "      <td>...</td>\n",
       "      <td>0.827</td>\n",
       "      <td>-5.09</td>\n",
       "      <td>0.062</td>\n",
       "      <td>0.049</td>\n",
       "      <td>0.321</td>\n",
       "      <td>117.977</td>\n",
       "      <td>185277</td>\n",
       "      <td>0.75</td>\n",
       "      <td>E</td>\n",
       "      <td>boy band</td>\n",
       "    </tr>\n",
       "    <tr>\n",
       "      <th>2</th>\n",
       "      <td>181</td>\n",
       "      <td>1</td>\n",
       "      <td>2020</td>\n",
       "      <td>12</td>\n",
       "      <td>18</td>\n",
       "      <td>6657404</td>\n",
       "      <td>Taylor Swift</td>\n",
       "      <td>42227614</td>\n",
       "      <td>12/6/2019</td>\n",
       "      <td>2019.0</td>\n",
       "      <td>...</td>\n",
       "      <td>0.68</td>\n",
       "      <td>-4.505</td>\n",
       "      <td>0.033</td>\n",
       "      <td>0.06</td>\n",
       "      <td>0.324</td>\n",
       "      <td>134.002</td>\n",
       "      <td>228027</td>\n",
       "      <td>0.437</td>\n",
       "      <td>G</td>\n",
       "      <td>pop</td>\n",
       "    </tr>\n",
       "    <tr>\n",
       "      <th>3</th>\n",
       "      <td>12</td>\n",
       "      <td>29</td>\n",
       "      <td>2020</td>\n",
       "      <td>11</td>\n",
       "      <td>27</td>\n",
       "      <td>5242347</td>\n",
       "      <td>Bad Bunny</td>\n",
       "      <td>36142273</td>\n",
       "      <td>11/27/2020</td>\n",
       "      <td>2020.0</td>\n",
       "      <td>...</td>\n",
       "      <td>0.637</td>\n",
       "      <td>-4.835</td>\n",
       "      <td>0.059</td>\n",
       "      <td>0.234</td>\n",
       "      <td>0.118</td>\n",
       "      <td>92.025</td>\n",
       "      <td>130014</td>\n",
       "      <td>0.471</td>\n",
       "      <td>A#/Bb</td>\n",
       "      <td>latin</td>\n",
       "    </tr>\n",
       "    <tr>\n",
       "      <th>4</th>\n",
       "      <td>32</td>\n",
       "      <td>10</td>\n",
       "      <td>2020</td>\n",
       "      <td>1</td>\n",
       "      <td>3</td>\n",
       "      <td>5386512</td>\n",
       "      <td>Lil Uzi Vert</td>\n",
       "      <td>11821805</td>\n",
       "      <td>12/12/2019</td>\n",
       "      <td>2019.0</td>\n",
       "      <td>...</td>\n",
       "      <td>0.457</td>\n",
       "      <td>-8.191</td>\n",
       "      <td>0.156</td>\n",
       "      <td>0.033</td>\n",
       "      <td>0.231</td>\n",
       "      <td>136.97</td>\n",
       "      <td>198913</td>\n",
       "      <td>0.296</td>\n",
       "      <td>G</td>\n",
       "      <td>melodic rap</td>\n",
       "    </tr>\n",
       "    <tr>\n",
       "      <th>...</th>\n",
       "      <td>...</td>\n",
       "      <td>...</td>\n",
       "      <td>...</td>\n",
       "      <td>...</td>\n",
       "      <td>...</td>\n",
       "      <td>...</td>\n",
       "      <td>...</td>\n",
       "      <td>...</td>\n",
       "      <td>...</td>\n",
       "      <td>...</td>\n",
       "      <td>...</td>\n",
       "      <td>...</td>\n",
       "      <td>...</td>\n",
       "      <td>...</td>\n",
       "      <td>...</td>\n",
       "      <td>...</td>\n",
       "      <td>...</td>\n",
       "      <td>...</td>\n",
       "      <td>...</td>\n",
       "      <td>...</td>\n",
       "      <td>...</td>\n",
       "    </tr>\n",
       "    <tr>\n",
       "      <th>495</th>\n",
       "      <td>30</td>\n",
       "      <td>9</td>\n",
       "      <td>2020</td>\n",
       "      <td>4</td>\n",
       "      <td>10</td>\n",
       "      <td>4252898</td>\n",
       "      <td>Twenty One Pilots</td>\n",
       "      <td>20829526</td>\n",
       "      <td>4/9/2020</td>\n",
       "      <td>2020.0</td>\n",
       "      <td>...</td>\n",
       "      <td>0.583</td>\n",
       "      <td>-7.34</td>\n",
       "      <td>0.043</td>\n",
       "      <td>0.32</td>\n",
       "      <td>0.144</td>\n",
       "      <td>122.012</td>\n",
       "      <td>220051</td>\n",
       "      <td>0.77</td>\n",
       "      <td>E</td>\n",
       "      <td>modern rock</td>\n",
       "    </tr>\n",
       "    <tr>\n",
       "      <th>496</th>\n",
       "      <td>29</td>\n",
       "      <td>15</td>\n",
       "      <td>2020</td>\n",
       "      <td>1</td>\n",
       "      <td>24</td>\n",
       "      <td>5234645</td>\n",
       "      <td>Ali Gatie</td>\n",
       "      <td>1758300</td>\n",
       "      <td>3/26/2021</td>\n",
       "      <td>2021.0</td>\n",
       "      <td>...</td>\n",
       "      <td>0.366</td>\n",
       "      <td>-11.144</td>\n",
       "      <td>0.115</td>\n",
       "      <td>0.63</td>\n",
       "      <td>0.055</td>\n",
       "      <td>84.394</td>\n",
       "      <td>193668</td>\n",
       "      <td>0.229</td>\n",
       "      <td>G</td>\n",
       "      <td>canadian hip hop</td>\n",
       "    </tr>\n",
       "    <tr>\n",
       "      <th>497</th>\n",
       "      <td>193</td>\n",
       "      <td>1</td>\n",
       "      <td>2021</td>\n",
       "      <td>2</td>\n",
       "      <td>12</td>\n",
       "      <td>4902737</td>\n",
       "      <td>Oasis</td>\n",
       "      <td>6478565</td>\n",
       "      <td>1995</td>\n",
       "      <td>NaN</td>\n",
       "      <td>...</td>\n",
       "      <td>0.893</td>\n",
       "      <td>-4.097</td>\n",
       "      <td>0.041</td>\n",
       "      <td>0.001</td>\n",
       "      <td>0.187</td>\n",
       "      <td>174.323</td>\n",
       "      <td>258773</td>\n",
       "      <td>0.434</td>\n",
       "      <td>D</td>\n",
       "      <td>beatlesque</td>\n",
       "    </tr>\n",
       "    <tr>\n",
       "      <th>498</th>\n",
       "      <td>6</td>\n",
       "      <td>7</td>\n",
       "      <td>2020</td>\n",
       "      <td>12</td>\n",
       "      <td>18</td>\n",
       "      <td>15424001</td>\n",
       "      <td>Michael Bublé</td>\n",
       "      <td>4702232</td>\n",
       "      <td>11/9/2012</td>\n",
       "      <td>2012.0</td>\n",
       "      <td>...</td>\n",
       "      <td>0.214</td>\n",
       "      <td>-11.714</td>\n",
       "      <td>0.038</td>\n",
       "      <td>0.908</td>\n",
       "      <td>0.341</td>\n",
       "      <td>94.775</td>\n",
       "      <td>206640</td>\n",
       "      <td>0.363</td>\n",
       "      <td>E</td>\n",
       "      <td>adult standards</td>\n",
       "    </tr>\n",
       "    <tr>\n",
       "      <th>499</th>\n",
       "      <td>124</td>\n",
       "      <td>3</td>\n",
       "      <td>2020</td>\n",
       "      <td>11</td>\n",
       "      <td>6</td>\n",
       "      <td>5201322</td>\n",
       "      <td>Little Mix</td>\n",
       "      <td>9398941</td>\n",
       "      <td>11/6/2020</td>\n",
       "      <td>2020.0</td>\n",
       "      <td>...</td>\n",
       "      <td>0.824</td>\n",
       "      <td>-4.249</td>\n",
       "      <td>0.057</td>\n",
       "      <td>0.074</td>\n",
       "      <td>0.113</td>\n",
       "      <td>119.965</td>\n",
       "      <td>213693</td>\n",
       "      <td>0.419</td>\n",
       "      <td>F</td>\n",
       "      <td>dance pop</td>\n",
       "    </tr>\n",
       "  </tbody>\n",
       "</table>\n",
       "<p>500 rows × 27 columns</p>\n",
       "</div>"
      ],
      "text/plain": [
       "     Highest_Charting_Position  Number_of_Times_Charted  \\\n",
       "0                            8                       24   \n",
       "1                           92                        2   \n",
       "2                          181                        1   \n",
       "3                           12                       29   \n",
       "4                           32                       10   \n",
       "..                         ...                      ...   \n",
       "495                         30                        9   \n",
       "496                         29                       15   \n",
       "497                        193                        1   \n",
       "498                          6                        7   \n",
       "499                        124                        3   \n",
       "\n",
       "     Week_of_Highest_Charting_year  Week_of_Highest_Charting_month  \\\n",
       "0                             2021                               4   \n",
       "1                             2020                               5   \n",
       "2                             2020                              12   \n",
       "3                             2020                              11   \n",
       "4                             2020                               1   \n",
       "..                             ...                             ...   \n",
       "495                           2020                               4   \n",
       "496                           2020                               1   \n",
       "497                           2021                               2   \n",
       "498                           2020                              12   \n",
       "499                           2020                              11   \n",
       "\n",
       "     Week_of_Highest_Charting_day   Streams             Artist  \\\n",
       "0                               2   8832945             Giveon   \n",
       "1                              15   5018592     Jonas Brothers   \n",
       "2                              18   6657404       Taylor Swift   \n",
       "3                              27   5242347          Bad Bunny   \n",
       "4                               3   5386512       Lil Uzi Vert   \n",
       "..                            ...       ...                ...   \n",
       "495                            10   4252898  Twenty One Pilots   \n",
       "496                            24   5234645          Ali Gatie   \n",
       "497                            12   4902737              Oasis   \n",
       "498                            18  15424001      Michael Bublé   \n",
       "499                             6   5201322         Little Mix   \n",
       "\n",
       "    Artist_Followers Release_Date  Release_Date_year  ... Energy  Loudness  \\\n",
       "0            1398563    3/27/2020             2020.0  ...  0.465    -8.964   \n",
       "1            5436999    5/15/2020             2020.0  ...  0.827     -5.09   \n",
       "2           42227614    12/6/2019             2019.0  ...   0.68    -4.505   \n",
       "3           36142273   11/27/2020             2020.0  ...  0.637    -4.835   \n",
       "4           11821805   12/12/2019             2019.0  ...  0.457    -8.191   \n",
       "..               ...          ...                ...  ...    ...       ...   \n",
       "495         20829526     4/9/2020             2020.0  ...  0.583     -7.34   \n",
       "496          1758300    3/26/2021             2021.0  ...  0.366   -11.144   \n",
       "497          6478565         1995                NaN  ...  0.893    -4.097   \n",
       "498          4702232    11/9/2012             2012.0  ...  0.214   -11.714   \n",
       "499          9398941    11/6/2020             2020.0  ...  0.824    -4.249   \n",
       "\n",
       "     Speechiness  Acousticness  Liveness    Tempo Duration_ms Valence  Chord  \\\n",
       "0          0.079         0.524     0.303   89.087      198371   0.543      C   \n",
       "1          0.062         0.049     0.321  117.977      185277    0.75      E   \n",
       "2          0.033          0.06     0.324  134.002      228027   0.437      G   \n",
       "3          0.059         0.234     0.118   92.025      130014   0.471  A#/Bb   \n",
       "4          0.156         0.033     0.231   136.97      198913   0.296      G   \n",
       "..           ...           ...       ...      ...         ...     ...    ...   \n",
       "495        0.043          0.32     0.144  122.012      220051    0.77      E   \n",
       "496        0.115          0.63     0.055   84.394      193668   0.229      G   \n",
       "497        0.041         0.001     0.187  174.323      258773   0.434      D   \n",
       "498        0.038         0.908     0.341   94.775      206640   0.363      E   \n",
       "499        0.057         0.074     0.113  119.965      213693   0.419      F   \n",
       "\n",
       "              Genre_1  \n",
       "0                 pop  \n",
       "1            boy band  \n",
       "2                 pop  \n",
       "3               latin  \n",
       "4         melodic rap  \n",
       "..                ...  \n",
       "495       modern rock  \n",
       "496  canadian hip hop  \n",
       "497        beatlesque  \n",
       "498   adult standards  \n",
       "499         dance pop  \n",
       "\n",
       "[500 rows x 27 columns]"
      ]
     },
     "execution_count": 4,
     "metadata": {},
     "output_type": "execute_result"
    }
   ],
   "source": [
    "#dropped excess genre columns and string column\n",
    "df_uncleaned = df_raw.drop(['Genre_2', 'Genre_3', 'Genre_4', 'Genre_5', 'Genre_6', 'Genre_7', 'Genre_8', 'Genre_9', 'Genre_10', 'Genre_11', 'Week_of_Highest_Charting', 'Song_Name', 'Weeks_Charted', 'Song_ID'], axis=1)\n",
    "df_uncleaned"
   ]
  },
  {
   "cell_type": "code",
   "execution_count": 5,
   "metadata": {},
   "outputs": [
    {
     "data": {
      "text/plain": [
       "Highest_Charting_Position           int64\n",
       "Number_of_Times_Charted             int64\n",
       "Week_of_Highest_Charting_year       int64\n",
       "Week_of_Highest_Charting_month      int64\n",
       "Week_of_Highest_Charting_day        int64\n",
       "Streams                             int64\n",
       "Artist                             object\n",
       "Artist_Followers                   object\n",
       "Release_Date                       object\n",
       "Release_Date_year                 float64\n",
       "Release_Date_month                 object\n",
       "Release_Date_day                  float64\n",
       "Weeks_Charted_year                  int64\n",
       "Weeks_Charted_month                 int64\n",
       "Weeks_Charted_day                   int64\n",
       "Popularity                         object\n",
       "Danceability                       object\n",
       "Energy                             object\n",
       "Loudness                           object\n",
       "Speechiness                        object\n",
       "Acousticness                       object\n",
       "Liveness                           object\n",
       "Tempo                              object\n",
       "Duration_ms                        object\n",
       "Valence                            object\n",
       "Chord                              object\n",
       "Genre_1                            object\n",
       "dtype: object"
      ]
     },
     "execution_count": 5,
     "metadata": {},
     "output_type": "execute_result"
    }
   ],
   "source": [
    "df_uncleaned.dtypes"
   ]
  },
  {
   "cell_type": "code",
   "execution_count": 6,
   "metadata": {},
   "outputs": [],
   "source": [
    "df_uncleaned.to_csv(r'spotify_removedRows.csv', index=False)"
   ]
  },
  {
   "cell_type": "code",
   "execution_count": 7,
   "metadata": {},
   "outputs": [
    {
     "data": {
      "text/plain": [
       "array(['0.465', '0.827', '0.68', '0.637', '0.457', '0.798', '0.492',\n",
       "       '0.586', '0.579', '0.703', '0.948', '0.512', '0.608', '0.574',\n",
       "       '0.483', '0.436', '0.646', '0.617', '0.789', '0.783', '0.377',\n",
       "       '0.737', '0.425', '0.797', '0.793', '0.939', '0.664', '0.576',\n",
       "       '0.802', '0.676', '0.72', '0.543', '0.599', '0.541', '0.631',\n",
       "       '0.677', '0.826', '0.887', '0.434', '0.462', '0.616', '0.509',\n",
       "       '0.899', '0.546', '0.445', '0.446', '0.437', '0.594', '0.502',\n",
       "       '0.597', 'missing', '0.764', '0.609', '0.128', '0.239', '0.863',\n",
       "       '0.513', '0.497', '0.913', '0.534', '0.761', '0.829', '0.674',\n",
       "       '0.413', '0.571', '0.652', '0.267', '0.776', '0.605', '0.836',\n",
       "       '0.669', '0.511', '0.648', '0.729', '0.538', '0.741', '0.662',\n",
       "       '0.603', '0.681', '0.545', '0.892', '0.801', '0.707', '0.52',\n",
       "       '0.738', '0.629', '0.706', '0.812', '0.398', '0.533', '0.553',\n",
       "       '0.396', '0.904', '0.714', '0.455', '0.698', '0.485', '0.473',\n",
       "       '0.5', '0.556', '0.426', '0.31', '0.486', '0.758', '0.622',\n",
       "       '0.408', '0.558', '0.715', '0.656', '0.725', '0.516', '0.84',\n",
       "       '0.65', '0.711', '0.454', '0.784', '0.581', '0.621', '0.757',\n",
       "       '0.63', '0.606', '0.749', '0.679', '0.82', '0.56', '0.427',\n",
       "       '0.561', '0.365', '0.712', '0.914', '0.727', '0.575', '0.24',\n",
       "       '0.845', '0.686', '0.87', '0.862', '0.474', '0.878', '0.573',\n",
       "       '0.815', '0.472', '0.634', '0.807', '0.405', '0.564', '0.449',\n",
       "       '0.732', '0.859', '0.103', '0.615', '0.588', '0.632', '0.785',\n",
       "       '0.74', '0.708', '0.628', '0.532', '0.693', '0.909', '0.672',\n",
       "       '0.924', '0.816', '0.337', '0.668', '0.201', '0.389', '0.539',\n",
       "       '0.28', '0.747', '0.788', '0.618', '0.921', '0.595', '0.528',\n",
       "       '0.57', '0.819', '0.47', '0.563', '0.645', '0.66', '0.841', '0.64',\n",
       "       '0.73', '0.4', '0.522', '0.493', '0.598', '0.577', '0.324',\n",
       "       '0.506', '0.39', '0.259', '0.748', '0.319', '0.383', '0.766',\n",
       "       '0.537', '0.901', '0.67', '0.054', '0.373', '0.452', '0.71',\n",
       "       '0.684', '0.626', '0.422', '0.795', '0.938', '0.624', '0.733',\n",
       "       '0.339', '0.612', '0.661', '0.876', '0.43', '0.479', '0.327',\n",
       "       '0.695', '0.525', '0.431', '0.666', '0.554', '0.765', '0.296',\n",
       "       '0.158', '0.69', '0.596', '0.494', '0.701', '0.762', '0.824',\n",
       "       '0.756', '0.767', '0.415', '0.378', '0.683', '0.551', '0.881',\n",
       "       '0.828', '0.848', '0.361', '0.491', '0.83', '0.769', '0.62',\n",
       "       '0.243', '0.531', '0.773', '0.34', '0.519', '0.709', '0.548',\n",
       "       '0.746', '0.379', '0.611', '0.837', '0.922', '0.855', '0.589',\n",
       "       '0.654', '0.518', '0.517', '0.526', '0.636', '0.854', '0.523',\n",
       "       '0.86', '0.424', '0.704', '0.731', '0.641', '0.792', '0.602',\n",
       "       '0.78', '0.844', '0.547', '0.867', '0.647', '0.315', '0.932',\n",
       "       '0.716', '0.391', '0.178', '0.504', '0.639', '0.584', '0.364',\n",
       "       '0.927', '0.642', '0.55', '0.723', '0.796', '0.443', '0.782',\n",
       "       '0.667', '0.249', '0.507', '0.593', '0.817', '0.644', '0.7', '0.6',\n",
       "       '0.186', '0.814', '0.791', '0.542', '0.705', '0.514', '0.918',\n",
       "       '0.911', '0.294', '0.799', '0.787', '0.726', '0.438', '0.877',\n",
       "       '0.916', '0.441', '0.75', '0.759', '0.26', '0.496', '0.743',\n",
       "       '0.106', '0.794', '0.85', '0.219', '0.659', '0.717', '0.368',\n",
       "       '0.825', '0.873', '0.663', '0.583', '0.366', '0.893', '0.214'],\n",
       "      dtype=object)"
      ]
     },
     "execution_count": 7,
     "metadata": {},
     "output_type": "execute_result"
    }
   ],
   "source": [
    "df_uncleaned['Energy'].unique()"
   ]
  },
  {
   "cell_type": "markdown",
   "metadata": {},
   "source": [
    "### Data Cleaning"
   ]
  },
  {
   "cell_type": "code",
   "execution_count": 8,
   "metadata": {},
   "outputs": [
    {
     "data": {
      "text/html": [
       "<div>\n",
       "<style scoped>\n",
       "    .dataframe tbody tr th:only-of-type {\n",
       "        vertical-align: middle;\n",
       "    }\n",
       "\n",
       "    .dataframe tbody tr th {\n",
       "        vertical-align: top;\n",
       "    }\n",
       "\n",
       "    .dataframe thead th {\n",
       "        text-align: right;\n",
       "    }\n",
       "</style>\n",
       "<table border=\"1\" class=\"dataframe\">\n",
       "  <thead>\n",
       "    <tr style=\"text-align: right;\">\n",
       "      <th></th>\n",
       "      <th>Highest_Charting_Position</th>\n",
       "      <th>Number_of_Times_Charted</th>\n",
       "      <th>Week_of_Highest_Charting_year</th>\n",
       "      <th>Week_of_Highest_Charting_month</th>\n",
       "      <th>Week_of_Highest_Charting_day</th>\n",
       "      <th>Streams</th>\n",
       "      <th>Artist</th>\n",
       "      <th>Artist_Followers</th>\n",
       "      <th>Release_Date</th>\n",
       "      <th>Release_Date_year</th>\n",
       "      <th>...</th>\n",
       "      <th>Energy</th>\n",
       "      <th>Loudness</th>\n",
       "      <th>Speechiness</th>\n",
       "      <th>Acousticness</th>\n",
       "      <th>Liveness</th>\n",
       "      <th>Tempo</th>\n",
       "      <th>Duration_ms</th>\n",
       "      <th>Valence</th>\n",
       "      <th>Chord</th>\n",
       "      <th>Genre_1</th>\n",
       "    </tr>\n",
       "  </thead>\n",
       "  <tbody>\n",
       "    <tr>\n",
       "      <th>0</th>\n",
       "      <td>8</td>\n",
       "      <td>24</td>\n",
       "      <td>2021</td>\n",
       "      <td>4</td>\n",
       "      <td>2</td>\n",
       "      <td>8832945</td>\n",
       "      <td>Giveon</td>\n",
       "      <td>1398563.0</td>\n",
       "      <td>3/27/2020</td>\n",
       "      <td>2020.0</td>\n",
       "      <td>...</td>\n",
       "      <td>0.465</td>\n",
       "      <td>-8.964</td>\n",
       "      <td>0.079</td>\n",
       "      <td>0.524</td>\n",
       "      <td>0.303</td>\n",
       "      <td>89.087</td>\n",
       "      <td>198371.0</td>\n",
       "      <td>0.543</td>\n",
       "      <td>C</td>\n",
       "      <td>pop</td>\n",
       "    </tr>\n",
       "    <tr>\n",
       "      <th>1</th>\n",
       "      <td>92</td>\n",
       "      <td>2</td>\n",
       "      <td>2020</td>\n",
       "      <td>5</td>\n",
       "      <td>15</td>\n",
       "      <td>5018592</td>\n",
       "      <td>Jonas Brothers</td>\n",
       "      <td>5436999.0</td>\n",
       "      <td>5/15/2020</td>\n",
       "      <td>2020.0</td>\n",
       "      <td>...</td>\n",
       "      <td>0.827</td>\n",
       "      <td>-5.090</td>\n",
       "      <td>0.062</td>\n",
       "      <td>0.049</td>\n",
       "      <td>0.321</td>\n",
       "      <td>117.977</td>\n",
       "      <td>185277.0</td>\n",
       "      <td>0.750</td>\n",
       "      <td>E</td>\n",
       "      <td>boy band</td>\n",
       "    </tr>\n",
       "    <tr>\n",
       "      <th>2</th>\n",
       "      <td>181</td>\n",
       "      <td>1</td>\n",
       "      <td>2020</td>\n",
       "      <td>12</td>\n",
       "      <td>18</td>\n",
       "      <td>6657404</td>\n",
       "      <td>Taylor Swift</td>\n",
       "      <td>42227614.0</td>\n",
       "      <td>12/6/2019</td>\n",
       "      <td>2019.0</td>\n",
       "      <td>...</td>\n",
       "      <td>0.680</td>\n",
       "      <td>-4.505</td>\n",
       "      <td>0.033</td>\n",
       "      <td>0.060</td>\n",
       "      <td>0.324</td>\n",
       "      <td>134.002</td>\n",
       "      <td>228027.0</td>\n",
       "      <td>0.437</td>\n",
       "      <td>G</td>\n",
       "      <td>pop</td>\n",
       "    </tr>\n",
       "    <tr>\n",
       "      <th>3</th>\n",
       "      <td>12</td>\n",
       "      <td>29</td>\n",
       "      <td>2020</td>\n",
       "      <td>11</td>\n",
       "      <td>27</td>\n",
       "      <td>5242347</td>\n",
       "      <td>Bad Bunny</td>\n",
       "      <td>36142273.0</td>\n",
       "      <td>11/27/2020</td>\n",
       "      <td>2020.0</td>\n",
       "      <td>...</td>\n",
       "      <td>0.637</td>\n",
       "      <td>-4.835</td>\n",
       "      <td>0.059</td>\n",
       "      <td>0.234</td>\n",
       "      <td>0.118</td>\n",
       "      <td>92.025</td>\n",
       "      <td>130014.0</td>\n",
       "      <td>0.471</td>\n",
       "      <td>A#/Bb</td>\n",
       "      <td>latin</td>\n",
       "    </tr>\n",
       "    <tr>\n",
       "      <th>4</th>\n",
       "      <td>32</td>\n",
       "      <td>10</td>\n",
       "      <td>2020</td>\n",
       "      <td>1</td>\n",
       "      <td>3</td>\n",
       "      <td>5386512</td>\n",
       "      <td>Lil Uzi Vert</td>\n",
       "      <td>11821805.0</td>\n",
       "      <td>12/12/2019</td>\n",
       "      <td>2019.0</td>\n",
       "      <td>...</td>\n",
       "      <td>0.457</td>\n",
       "      <td>-8.191</td>\n",
       "      <td>0.156</td>\n",
       "      <td>0.033</td>\n",
       "      <td>0.231</td>\n",
       "      <td>136.970</td>\n",
       "      <td>198913.0</td>\n",
       "      <td>0.296</td>\n",
       "      <td>G</td>\n",
       "      <td>melodic rap</td>\n",
       "    </tr>\n",
       "    <tr>\n",
       "      <th>...</th>\n",
       "      <td>...</td>\n",
       "      <td>...</td>\n",
       "      <td>...</td>\n",
       "      <td>...</td>\n",
       "      <td>...</td>\n",
       "      <td>...</td>\n",
       "      <td>...</td>\n",
       "      <td>...</td>\n",
       "      <td>...</td>\n",
       "      <td>...</td>\n",
       "      <td>...</td>\n",
       "      <td>...</td>\n",
       "      <td>...</td>\n",
       "      <td>...</td>\n",
       "      <td>...</td>\n",
       "      <td>...</td>\n",
       "      <td>...</td>\n",
       "      <td>...</td>\n",
       "      <td>...</td>\n",
       "      <td>...</td>\n",
       "      <td>...</td>\n",
       "    </tr>\n",
       "    <tr>\n",
       "      <th>494</th>\n",
       "      <td>4</td>\n",
       "      <td>76</td>\n",
       "      <td>2020</td>\n",
       "      <td>6</td>\n",
       "      <td>19</td>\n",
       "      <td>5238547</td>\n",
       "      <td>Powfu, beabadoobee</td>\n",
       "      <td>924083.0</td>\n",
       "      <td>2/8/2020</td>\n",
       "      <td>2020.0</td>\n",
       "      <td>...</td>\n",
       "      <td>0.431</td>\n",
       "      <td>-8.765</td>\n",
       "      <td>0.135</td>\n",
       "      <td>0.731</td>\n",
       "      <td>0.696</td>\n",
       "      <td>144.026</td>\n",
       "      <td>173333.0</td>\n",
       "      <td>0.348</td>\n",
       "      <td>G#/Ab</td>\n",
       "      <td>sad rap</td>\n",
       "    </tr>\n",
       "    <tr>\n",
       "      <th>495</th>\n",
       "      <td>30</td>\n",
       "      <td>9</td>\n",
       "      <td>2020</td>\n",
       "      <td>4</td>\n",
       "      <td>10</td>\n",
       "      <td>4252898</td>\n",
       "      <td>Twenty One Pilots</td>\n",
       "      <td>20829526.0</td>\n",
       "      <td>4/9/2020</td>\n",
       "      <td>2020.0</td>\n",
       "      <td>...</td>\n",
       "      <td>0.583</td>\n",
       "      <td>-7.340</td>\n",
       "      <td>0.043</td>\n",
       "      <td>0.320</td>\n",
       "      <td>0.144</td>\n",
       "      <td>122.012</td>\n",
       "      <td>220051.0</td>\n",
       "      <td>0.770</td>\n",
       "      <td>E</td>\n",
       "      <td>modern rock</td>\n",
       "    </tr>\n",
       "    <tr>\n",
       "      <th>496</th>\n",
       "      <td>29</td>\n",
       "      <td>15</td>\n",
       "      <td>2020</td>\n",
       "      <td>1</td>\n",
       "      <td>24</td>\n",
       "      <td>5234645</td>\n",
       "      <td>Ali Gatie</td>\n",
       "      <td>1758300.0</td>\n",
       "      <td>3/26/2021</td>\n",
       "      <td>2021.0</td>\n",
       "      <td>...</td>\n",
       "      <td>0.366</td>\n",
       "      <td>-11.144</td>\n",
       "      <td>0.115</td>\n",
       "      <td>0.630</td>\n",
       "      <td>0.055</td>\n",
       "      <td>84.394</td>\n",
       "      <td>193668.0</td>\n",
       "      <td>0.229</td>\n",
       "      <td>G</td>\n",
       "      <td>canadian hip hop</td>\n",
       "    </tr>\n",
       "    <tr>\n",
       "      <th>498</th>\n",
       "      <td>6</td>\n",
       "      <td>7</td>\n",
       "      <td>2020</td>\n",
       "      <td>12</td>\n",
       "      <td>18</td>\n",
       "      <td>15424001</td>\n",
       "      <td>Michael Bublé</td>\n",
       "      <td>4702232.0</td>\n",
       "      <td>11/9/2012</td>\n",
       "      <td>2012.0</td>\n",
       "      <td>...</td>\n",
       "      <td>0.214</td>\n",
       "      <td>-11.714</td>\n",
       "      <td>0.038</td>\n",
       "      <td>0.908</td>\n",
       "      <td>0.341</td>\n",
       "      <td>94.775</td>\n",
       "      <td>206640.0</td>\n",
       "      <td>0.363</td>\n",
       "      <td>E</td>\n",
       "      <td>adult standards</td>\n",
       "    </tr>\n",
       "    <tr>\n",
       "      <th>499</th>\n",
       "      <td>124</td>\n",
       "      <td>3</td>\n",
       "      <td>2020</td>\n",
       "      <td>11</td>\n",
       "      <td>6</td>\n",
       "      <td>5201322</td>\n",
       "      <td>Little Mix</td>\n",
       "      <td>9398941.0</td>\n",
       "      <td>11/6/2020</td>\n",
       "      <td>2020.0</td>\n",
       "      <td>...</td>\n",
       "      <td>0.824</td>\n",
       "      <td>-4.249</td>\n",
       "      <td>0.057</td>\n",
       "      <td>0.074</td>\n",
       "      <td>0.113</td>\n",
       "      <td>119.965</td>\n",
       "      <td>213693.0</td>\n",
       "      <td>0.419</td>\n",
       "      <td>F</td>\n",
       "      <td>dance pop</td>\n",
       "    </tr>\n",
       "  </tbody>\n",
       "</table>\n",
       "<p>467 rows × 27 columns</p>\n",
       "</div>"
      ],
      "text/plain": [
       "     Highest_Charting_Position  Number_of_Times_Charted  \\\n",
       "0                            8                       24   \n",
       "1                           92                        2   \n",
       "2                          181                        1   \n",
       "3                           12                       29   \n",
       "4                           32                       10   \n",
       "..                         ...                      ...   \n",
       "494                          4                       76   \n",
       "495                         30                        9   \n",
       "496                         29                       15   \n",
       "498                          6                        7   \n",
       "499                        124                        3   \n",
       "\n",
       "     Week_of_Highest_Charting_year  Week_of_Highest_Charting_month  \\\n",
       "0                             2021                               4   \n",
       "1                             2020                               5   \n",
       "2                             2020                              12   \n",
       "3                             2020                              11   \n",
       "4                             2020                               1   \n",
       "..                             ...                             ...   \n",
       "494                           2020                               6   \n",
       "495                           2020                               4   \n",
       "496                           2020                               1   \n",
       "498                           2020                              12   \n",
       "499                           2020                              11   \n",
       "\n",
       "     Week_of_Highest_Charting_day   Streams              Artist  \\\n",
       "0                               2   8832945              Giveon   \n",
       "1                              15   5018592      Jonas Brothers   \n",
       "2                              18   6657404        Taylor Swift   \n",
       "3                              27   5242347           Bad Bunny   \n",
       "4                               3   5386512        Lil Uzi Vert   \n",
       "..                            ...       ...                 ...   \n",
       "494                            19   5238547  Powfu, beabadoobee   \n",
       "495                            10   4252898   Twenty One Pilots   \n",
       "496                            24   5234645           Ali Gatie   \n",
       "498                            18  15424001       Michael Bublé   \n",
       "499                             6   5201322          Little Mix   \n",
       "\n",
       "     Artist_Followers Release_Date  Release_Date_year  ... Energy  Loudness  \\\n",
       "0           1398563.0    3/27/2020             2020.0  ...  0.465    -8.964   \n",
       "1           5436999.0    5/15/2020             2020.0  ...  0.827    -5.090   \n",
       "2          42227614.0    12/6/2019             2019.0  ...  0.680    -4.505   \n",
       "3          36142273.0   11/27/2020             2020.0  ...  0.637    -4.835   \n",
       "4          11821805.0   12/12/2019             2019.0  ...  0.457    -8.191   \n",
       "..                ...          ...                ...  ...    ...       ...   \n",
       "494          924083.0     2/8/2020             2020.0  ...  0.431    -8.765   \n",
       "495        20829526.0     4/9/2020             2020.0  ...  0.583    -7.340   \n",
       "496         1758300.0    3/26/2021             2021.0  ...  0.366   -11.144   \n",
       "498         4702232.0    11/9/2012             2012.0  ...  0.214   -11.714   \n",
       "499         9398941.0    11/6/2020             2020.0  ...  0.824    -4.249   \n",
       "\n",
       "     Speechiness  Acousticness  Liveness    Tempo  Duration_ms  Valence  \\\n",
       "0          0.079         0.524     0.303   89.087     198371.0    0.543   \n",
       "1          0.062         0.049     0.321  117.977     185277.0    0.750   \n",
       "2          0.033         0.060     0.324  134.002     228027.0    0.437   \n",
       "3          0.059         0.234     0.118   92.025     130014.0    0.471   \n",
       "4          0.156         0.033     0.231  136.970     198913.0    0.296   \n",
       "..           ...           ...       ...      ...          ...      ...   \n",
       "494        0.135         0.731     0.696  144.026     173333.0    0.348   \n",
       "495        0.043         0.320     0.144  122.012     220051.0    0.770   \n",
       "496        0.115         0.630     0.055   84.394     193668.0    0.229   \n",
       "498        0.038         0.908     0.341   94.775     206640.0    0.363   \n",
       "499        0.057         0.074     0.113  119.965     213693.0    0.419   \n",
       "\n",
       "     Chord           Genre_1  \n",
       "0        C               pop  \n",
       "1        E          boy band  \n",
       "2        G               pop  \n",
       "3    A#/Bb             latin  \n",
       "4        G       melodic rap  \n",
       "..     ...               ...  \n",
       "494  G#/Ab           sad rap  \n",
       "495      E       modern rock  \n",
       "496      G  canadian hip hop  \n",
       "498      E   adult standards  \n",
       "499      F         dance pop  \n",
       "\n",
       "[467 rows x 27 columns]"
      ]
     },
     "execution_count": 8,
     "metadata": {},
     "output_type": "execute_result"
    }
   ],
   "source": [
    "# missing values are encoded as nan\n",
    "missing = ['missing']\n",
    "\n",
    "df = pd.read_csv(\"spotify_removedRows.csv\", na_values = missing)\n",
    "df = df.dropna()\n",
    "df"
   ]
  },
  {
   "cell_type": "code",
   "execution_count": 9,
   "metadata": {},
   "outputs": [
    {
     "data": {
      "text/plain": [
       "Highest_Charting_Position           int64\n",
       "Number_of_Times_Charted             int64\n",
       "Week_of_Highest_Charting_year       int64\n",
       "Week_of_Highest_Charting_month      int64\n",
       "Week_of_Highest_Charting_day        int64\n",
       "Streams                             int64\n",
       "Artist                             object\n",
       "Artist_Followers                  float64\n",
       "Release_Date                       object\n",
       "Release_Date_year                 float64\n",
       "Release_Date_month                 object\n",
       "Release_Date_day                  float64\n",
       "Weeks_Charted_year                  int64\n",
       "Weeks_Charted_month                 int64\n",
       "Weeks_Charted_day                   int64\n",
       "Popularity                        float64\n",
       "Danceability                      float64\n",
       "Energy                            float64\n",
       "Loudness                          float64\n",
       "Speechiness                       float64\n",
       "Acousticness                      float64\n",
       "Liveness                          float64\n",
       "Tempo                             float64\n",
       "Duration_ms                       float64\n",
       "Valence                           float64\n",
       "Chord                              object\n",
       "Genre_1                            object\n",
       "dtype: object"
      ]
     },
     "execution_count": 9,
     "metadata": {},
     "output_type": "execute_result"
    }
   ],
   "source": [
    "df.dtypes"
   ]
  },
  {
   "cell_type": "code",
   "execution_count": 10,
   "metadata": {},
   "outputs": [],
   "source": [
    "# transform Month into int to make it consistent with other columns\n",
    "df['Release_Date_month'] = df['Release_Date_month'].astype('Int64')"
   ]
  },
  {
   "cell_type": "code",
   "execution_count": 11,
   "metadata": {},
   "outputs": [
    {
     "data": {
      "text/plain": [
       "Highest_Charting_Position           int64\n",
       "Number_of_Times_Charted             int64\n",
       "Week_of_Highest_Charting_year       int64\n",
       "Week_of_Highest_Charting_month      int64\n",
       "Week_of_Highest_Charting_day        int64\n",
       "Streams                             int64\n",
       "Artist                             object\n",
       "Artist_Followers                  float64\n",
       "Release_Date                       object\n",
       "Release_Date_year                 float64\n",
       "Release_Date_month                  Int64\n",
       "Release_Date_day                  float64\n",
       "Weeks_Charted_year                  int64\n",
       "Weeks_Charted_month                 int64\n",
       "Weeks_Charted_day                   int64\n",
       "Popularity                        float64\n",
       "Danceability                      float64\n",
       "Energy                            float64\n",
       "Loudness                          float64\n",
       "Speechiness                       float64\n",
       "Acousticness                      float64\n",
       "Liveness                          float64\n",
       "Tempo                             float64\n",
       "Duration_ms                       float64\n",
       "Valence                           float64\n",
       "Chord                              object\n",
       "Genre_1                            object\n",
       "dtype: object"
      ]
     },
     "execution_count": 11,
     "metadata": {},
     "output_type": "execute_result"
    }
   ],
   "source": [
    "df.dtypes"
   ]
  },
  {
   "cell_type": "markdown",
   "metadata": {},
   "source": [
    "## Logistic Research"
   ]
  },
  {
   "cell_type": "markdown",
   "metadata": {},
   "source": [
    "### Encode the labels"
   ]
  },
  {
   "cell_type": "code",
   "execution_count": 12,
   "metadata": {},
   "outputs": [
    {
     "name": "stderr",
     "output_type": "stream",
     "text": [
      "/var/folders/zr/5gt0j9qx40115l912wkkz6g00000gn/T/ipykernel_54798/3066312245.py:3: SettingWithCopyWarning: \n",
      "A value is trying to be set on a copy of a slice from a DataFrame.\n",
      "Try using .loc[row_indexer,col_indexer] = value instead\n",
      "\n",
      "See the caveats in the documentation: https://pandas.pydata.org/pandas-docs/stable/user_guide/indexing.html#returning-a-view-versus-a-copy\n",
      "  df_taylor['y'] = 1\n",
      "/var/folders/zr/5gt0j9qx40115l912wkkz6g00000gn/T/ipykernel_54798/3066312245.py:5: SettingWithCopyWarning: \n",
      "A value is trying to be set on a copy of a slice from a DataFrame.\n",
      "Try using .loc[row_indexer,col_indexer] = value instead\n",
      "\n",
      "See the caveats in the documentation: https://pandas.pydata.org/pandas-docs/stable/user_guide/indexing.html#returning-a-view-versus-a-copy\n",
      "  df_nottaylor['y'] = 0\n"
     ]
    },
    {
     "data": {
      "text/html": [
       "<div>\n",
       "<style scoped>\n",
       "    .dataframe tbody tr th:only-of-type {\n",
       "        vertical-align: middle;\n",
       "    }\n",
       "\n",
       "    .dataframe tbody tr th {\n",
       "        vertical-align: top;\n",
       "    }\n",
       "\n",
       "    .dataframe thead th {\n",
       "        text-align: right;\n",
       "    }\n",
       "</style>\n",
       "<table border=\"1\" class=\"dataframe\">\n",
       "  <thead>\n",
       "    <tr style=\"text-align: right;\">\n",
       "      <th></th>\n",
       "      <th>Highest_Charting_Position</th>\n",
       "      <th>Number_of_Times_Charted</th>\n",
       "      <th>Week_of_Highest_Charting_year</th>\n",
       "      <th>Week_of_Highest_Charting_month</th>\n",
       "      <th>Week_of_Highest_Charting_day</th>\n",
       "      <th>Streams</th>\n",
       "      <th>Artist</th>\n",
       "      <th>Artist_Followers</th>\n",
       "      <th>Release_Date</th>\n",
       "      <th>Release_Date_year</th>\n",
       "      <th>...</th>\n",
       "      <th>Loudness</th>\n",
       "      <th>Speechiness</th>\n",
       "      <th>Acousticness</th>\n",
       "      <th>Liveness</th>\n",
       "      <th>Tempo</th>\n",
       "      <th>Duration_ms</th>\n",
       "      <th>Valence</th>\n",
       "      <th>Chord</th>\n",
       "      <th>Genre_1</th>\n",
       "      <th>y</th>\n",
       "    </tr>\n",
       "  </thead>\n",
       "  <tbody>\n",
       "    <tr>\n",
       "      <th>2</th>\n",
       "      <td>181</td>\n",
       "      <td>1</td>\n",
       "      <td>2020</td>\n",
       "      <td>12</td>\n",
       "      <td>18</td>\n",
       "      <td>6657404</td>\n",
       "      <td>Taylor Swift</td>\n",
       "      <td>42227614.0</td>\n",
       "      <td>12/6/2019</td>\n",
       "      <td>2019.0</td>\n",
       "      <td>...</td>\n",
       "      <td>-4.505</td>\n",
       "      <td>0.033</td>\n",
       "      <td>0.060</td>\n",
       "      <td>0.324</td>\n",
       "      <td>134.002</td>\n",
       "      <td>228027.0</td>\n",
       "      <td>0.437</td>\n",
       "      <td>G</td>\n",
       "      <td>pop</td>\n",
       "      <td>1</td>\n",
       "    </tr>\n",
       "    <tr>\n",
       "      <th>20</th>\n",
       "      <td>24</td>\n",
       "      <td>3</td>\n",
       "      <td>2020</td>\n",
       "      <td>7</td>\n",
       "      <td>24</td>\n",
       "      <td>5112180</td>\n",
       "      <td>Taylor Swift</td>\n",
       "      <td>42227614.0</td>\n",
       "      <td>7/24/2020</td>\n",
       "      <td>2020.0</td>\n",
       "      <td>...</td>\n",
       "      <td>-8.761</td>\n",
       "      <td>0.025</td>\n",
       "      <td>0.600</td>\n",
       "      <td>0.098</td>\n",
       "      <td>95.939</td>\n",
       "      <td>294521.0</td>\n",
       "      <td>0.502</td>\n",
       "      <td>C</td>\n",
       "      <td>pop</td>\n",
       "      <td>1</td>\n",
       "    </tr>\n",
       "    <tr>\n",
       "      <th>40</th>\n",
       "      <td>22</td>\n",
       "      <td>2</td>\n",
       "      <td>2020</td>\n",
       "      <td>12</td>\n",
       "      <td>11</td>\n",
       "      <td>8115520</td>\n",
       "      <td>Taylor Swift</td>\n",
       "      <td>42227614.0</td>\n",
       "      <td>12/11/2020</td>\n",
       "      <td>2020.0</td>\n",
       "      <td>...</td>\n",
       "      <td>-8.193</td>\n",
       "      <td>0.031</td>\n",
       "      <td>0.735</td>\n",
       "      <td>0.105</td>\n",
       "      <td>145.916</td>\n",
       "      <td>229840.0</td>\n",
       "      <td>0.348</td>\n",
       "      <td>F</td>\n",
       "      <td>pop</td>\n",
       "      <td>1</td>\n",
       "    </tr>\n",
       "    <tr>\n",
       "      <th>73</th>\n",
       "      <td>13</td>\n",
       "      <td>3</td>\n",
       "      <td>2020</td>\n",
       "      <td>7</td>\n",
       "      <td>24</td>\n",
       "      <td>5564072</td>\n",
       "      <td>Taylor Swift</td>\n",
       "      <td>42227614.0</td>\n",
       "      <td>7/24/2020</td>\n",
       "      <td>2020.0</td>\n",
       "      <td>...</td>\n",
       "      <td>-10.037</td>\n",
       "      <td>0.033</td>\n",
       "      <td>0.687</td>\n",
       "      <td>0.059</td>\n",
       "      <td>110.107</td>\n",
       "      <td>208978.0</td>\n",
       "      <td>0.379</td>\n",
       "      <td>D</td>\n",
       "      <td>pop</td>\n",
       "      <td>1</td>\n",
       "    </tr>\n",
       "    <tr>\n",
       "      <th>89</th>\n",
       "      <td>199</td>\n",
       "      <td>1</td>\n",
       "      <td>2019</td>\n",
       "      <td>12</td>\n",
       "      <td>27</td>\n",
       "      <td>4595450</td>\n",
       "      <td>Taylor Swift</td>\n",
       "      <td>42227614.0</td>\n",
       "      <td>11/13/2019</td>\n",
       "      <td>2019.0</td>\n",
       "      <td>...</td>\n",
       "      <td>-7.176</td>\n",
       "      <td>0.064</td>\n",
       "      <td>0.433</td>\n",
       "      <td>0.086</td>\n",
       "      <td>205.272</td>\n",
       "      <td>221307.0</td>\n",
       "      <td>0.422</td>\n",
       "      <td>G</td>\n",
       "      <td>pop</td>\n",
       "      <td>1</td>\n",
       "    </tr>\n",
       "  </tbody>\n",
       "</table>\n",
       "<p>5 rows × 28 columns</p>\n",
       "</div>"
      ],
      "text/plain": [
       "    Highest_Charting_Position  Number_of_Times_Charted  \\\n",
       "2                         181                        1   \n",
       "20                         24                        3   \n",
       "40                         22                        2   \n",
       "73                         13                        3   \n",
       "89                        199                        1   \n",
       "\n",
       "    Week_of_Highest_Charting_year  Week_of_Highest_Charting_month  \\\n",
       "2                            2020                              12   \n",
       "20                           2020                               7   \n",
       "40                           2020                              12   \n",
       "73                           2020                               7   \n",
       "89                           2019                              12   \n",
       "\n",
       "    Week_of_Highest_Charting_day  Streams        Artist  Artist_Followers  \\\n",
       "2                             18  6657404  Taylor Swift        42227614.0   \n",
       "20                            24  5112180  Taylor Swift        42227614.0   \n",
       "40                            11  8115520  Taylor Swift        42227614.0   \n",
       "73                            24  5564072  Taylor Swift        42227614.0   \n",
       "89                            27  4595450  Taylor Swift        42227614.0   \n",
       "\n",
       "   Release_Date  Release_Date_year  ...  Loudness  Speechiness  Acousticness  \\\n",
       "2     12/6/2019             2019.0  ...    -4.505        0.033         0.060   \n",
       "20    7/24/2020             2020.0  ...    -8.761        0.025         0.600   \n",
       "40   12/11/2020             2020.0  ...    -8.193        0.031         0.735   \n",
       "73    7/24/2020             2020.0  ...   -10.037        0.033         0.687   \n",
       "89   11/13/2019             2019.0  ...    -7.176        0.064         0.433   \n",
       "\n",
       "    Liveness    Tempo  Duration_ms  Valence  Chord  Genre_1  y  \n",
       "2      0.324  134.002     228027.0    0.437      G      pop  1  \n",
       "20     0.098   95.939     294521.0    0.502      C      pop  1  \n",
       "40     0.105  145.916     229840.0    0.348      F      pop  1  \n",
       "73     0.059  110.107     208978.0    0.379      D      pop  1  \n",
       "89     0.086  205.272     221307.0    0.422      G      pop  1  \n",
       "\n",
       "[5 rows x 28 columns]"
      ]
     },
     "execution_count": 12,
     "metadata": {},
     "output_type": "execute_result"
    }
   ],
   "source": [
    "# into 1/0\n",
    "df_taylor = df[df['Artist'] == 'Taylor Swift']\n",
    "df_taylor['y'] = 1\n",
    "df_nottaylor = df[df['Artist'] != 'Taylor Swift']\n",
    "df_nottaylor['y'] = 0\n",
    "dfl = pd.concat([df_taylor, df_nottaylor])\n",
    "\n",
    "# drop artist predictor column\n",
    "dfl.drop(['Artist'], axis = 1)\n",
    "dfl.head()"
   ]
  },
  {
   "cell_type": "code",
   "execution_count": 13,
   "metadata": {},
   "outputs": [
    {
     "name": "stdout",
     "output_type": "stream",
     "text": [
      "there are 467 rows and 28 columns\n"
     ]
    }
   ],
   "source": [
    "#dimensions\n",
    "print(f'there are {dfl.shape[0]} rows and {dfl.shape[1]} columns')"
   ]
  },
  {
   "cell_type": "markdown",
   "metadata": {},
   "source": [
    "### Pick Initial Predictors"
   ]
  },
  {
   "cell_type": "code",
   "execution_count": 14,
   "metadata": {},
   "outputs": [
    {
     "data": {
      "text/html": [
       "<div>\n",
       "<style scoped>\n",
       "    .dataframe tbody tr th:only-of-type {\n",
       "        vertical-align: middle;\n",
       "    }\n",
       "\n",
       "    .dataframe tbody tr th {\n",
       "        vertical-align: top;\n",
       "    }\n",
       "\n",
       "    .dataframe thead th {\n",
       "        text-align: right;\n",
       "    }\n",
       "</style>\n",
       "<table border=\"1\" class=\"dataframe\">\n",
       "  <thead>\n",
       "    <tr style=\"text-align: right;\">\n",
       "      <th></th>\n",
       "      <th>Popularity</th>\n",
       "      <th>Streams</th>\n",
       "      <th>Artist_Followers</th>\n",
       "      <th>Speechiness</th>\n",
       "      <th>y</th>\n",
       "      <th>Chord_A#/Bb</th>\n",
       "      <th>Chord_B</th>\n",
       "      <th>Chord_C</th>\n",
       "      <th>Chord_C#/Db</th>\n",
       "      <th>Chord_D</th>\n",
       "      <th>Chord_D#/Eb</th>\n",
       "      <th>Chord_E</th>\n",
       "      <th>Chord_F</th>\n",
       "      <th>Chord_F#/Gb</th>\n",
       "      <th>Chord_G</th>\n",
       "      <th>Chord_G#/Ab</th>\n",
       "    </tr>\n",
       "  </thead>\n",
       "  <tbody>\n",
       "    <tr>\n",
       "      <th>2</th>\n",
       "      <td>52.0</td>\n",
       "      <td>6657404</td>\n",
       "      <td>42227614.0</td>\n",
       "      <td>0.033</td>\n",
       "      <td>1</td>\n",
       "      <td>0</td>\n",
       "      <td>0</td>\n",
       "      <td>0</td>\n",
       "      <td>0</td>\n",
       "      <td>0</td>\n",
       "      <td>0</td>\n",
       "      <td>0</td>\n",
       "      <td>0</td>\n",
       "      <td>0</td>\n",
       "      <td>1</td>\n",
       "      <td>0</td>\n",
       "    </tr>\n",
       "    <tr>\n",
       "      <th>20</th>\n",
       "      <td>71.0</td>\n",
       "      <td>5112180</td>\n",
       "      <td>42227614.0</td>\n",
       "      <td>0.025</td>\n",
       "      <td>1</td>\n",
       "      <td>0</td>\n",
       "      <td>0</td>\n",
       "      <td>1</td>\n",
       "      <td>0</td>\n",
       "      <td>0</td>\n",
       "      <td>0</td>\n",
       "      <td>0</td>\n",
       "      <td>0</td>\n",
       "      <td>0</td>\n",
       "      <td>0</td>\n",
       "      <td>0</td>\n",
       "    </tr>\n",
       "    <tr>\n",
       "      <th>40</th>\n",
       "      <td>66.0</td>\n",
       "      <td>8115520</td>\n",
       "      <td>42227614.0</td>\n",
       "      <td>0.031</td>\n",
       "      <td>1</td>\n",
       "      <td>0</td>\n",
       "      <td>0</td>\n",
       "      <td>0</td>\n",
       "      <td>0</td>\n",
       "      <td>0</td>\n",
       "      <td>0</td>\n",
       "      <td>0</td>\n",
       "      <td>1</td>\n",
       "      <td>0</td>\n",
       "      <td>0</td>\n",
       "      <td>0</td>\n",
       "    </tr>\n",
       "    <tr>\n",
       "      <th>73</th>\n",
       "      <td>70.0</td>\n",
       "      <td>5564072</td>\n",
       "      <td>42227614.0</td>\n",
       "      <td>0.033</td>\n",
       "      <td>1</td>\n",
       "      <td>0</td>\n",
       "      <td>0</td>\n",
       "      <td>0</td>\n",
       "      <td>0</td>\n",
       "      <td>1</td>\n",
       "      <td>0</td>\n",
       "      <td>0</td>\n",
       "      <td>0</td>\n",
       "      <td>0</td>\n",
       "      <td>0</td>\n",
       "      <td>0</td>\n",
       "    </tr>\n",
       "    <tr>\n",
       "      <th>89</th>\n",
       "      <td>70.0</td>\n",
       "      <td>4595450</td>\n",
       "      <td>42227614.0</td>\n",
       "      <td>0.064</td>\n",
       "      <td>1</td>\n",
       "      <td>0</td>\n",
       "      <td>0</td>\n",
       "      <td>0</td>\n",
       "      <td>0</td>\n",
       "      <td>0</td>\n",
       "      <td>0</td>\n",
       "      <td>0</td>\n",
       "      <td>0</td>\n",
       "      <td>0</td>\n",
       "      <td>1</td>\n",
       "      <td>0</td>\n",
       "    </tr>\n",
       "    <tr>\n",
       "      <th>...</th>\n",
       "      <td>...</td>\n",
       "      <td>...</td>\n",
       "      <td>...</td>\n",
       "      <td>...</td>\n",
       "      <td>...</td>\n",
       "      <td>...</td>\n",
       "      <td>...</td>\n",
       "      <td>...</td>\n",
       "      <td>...</td>\n",
       "      <td>...</td>\n",
       "      <td>...</td>\n",
       "      <td>...</td>\n",
       "      <td>...</td>\n",
       "      <td>...</td>\n",
       "      <td>...</td>\n",
       "      <td>...</td>\n",
       "    </tr>\n",
       "    <tr>\n",
       "      <th>494</th>\n",
       "      <td>85.0</td>\n",
       "      <td>5238547</td>\n",
       "      <td>924083.0</td>\n",
       "      <td>0.135</td>\n",
       "      <td>0</td>\n",
       "      <td>0</td>\n",
       "      <td>0</td>\n",
       "      <td>0</td>\n",
       "      <td>0</td>\n",
       "      <td>0</td>\n",
       "      <td>0</td>\n",
       "      <td>0</td>\n",
       "      <td>0</td>\n",
       "      <td>0</td>\n",
       "      <td>0</td>\n",
       "      <td>1</td>\n",
       "    </tr>\n",
       "    <tr>\n",
       "      <th>495</th>\n",
       "      <td>72.0</td>\n",
       "      <td>4252898</td>\n",
       "      <td>20829526.0</td>\n",
       "      <td>0.043</td>\n",
       "      <td>0</td>\n",
       "      <td>0</td>\n",
       "      <td>0</td>\n",
       "      <td>0</td>\n",
       "      <td>0</td>\n",
       "      <td>0</td>\n",
       "      <td>0</td>\n",
       "      <td>1</td>\n",
       "      <td>0</td>\n",
       "      <td>0</td>\n",
       "      <td>0</td>\n",
       "      <td>0</td>\n",
       "    </tr>\n",
       "    <tr>\n",
       "      <th>496</th>\n",
       "      <td>69.0</td>\n",
       "      <td>5234645</td>\n",
       "      <td>1758300.0</td>\n",
       "      <td>0.115</td>\n",
       "      <td>0</td>\n",
       "      <td>0</td>\n",
       "      <td>0</td>\n",
       "      <td>0</td>\n",
       "      <td>0</td>\n",
       "      <td>0</td>\n",
       "      <td>0</td>\n",
       "      <td>0</td>\n",
       "      <td>0</td>\n",
       "      <td>0</td>\n",
       "      <td>1</td>\n",
       "      <td>0</td>\n",
       "    </tr>\n",
       "    <tr>\n",
       "      <th>498</th>\n",
       "      <td>55.0</td>\n",
       "      <td>15424001</td>\n",
       "      <td>4702232.0</td>\n",
       "      <td>0.038</td>\n",
       "      <td>0</td>\n",
       "      <td>0</td>\n",
       "      <td>0</td>\n",
       "      <td>0</td>\n",
       "      <td>0</td>\n",
       "      <td>0</td>\n",
       "      <td>0</td>\n",
       "      <td>1</td>\n",
       "      <td>0</td>\n",
       "      <td>0</td>\n",
       "      <td>0</td>\n",
       "      <td>0</td>\n",
       "    </tr>\n",
       "    <tr>\n",
       "      <th>499</th>\n",
       "      <td>73.0</td>\n",
       "      <td>5201322</td>\n",
       "      <td>9398941.0</td>\n",
       "      <td>0.057</td>\n",
       "      <td>0</td>\n",
       "      <td>0</td>\n",
       "      <td>0</td>\n",
       "      <td>0</td>\n",
       "      <td>0</td>\n",
       "      <td>0</td>\n",
       "      <td>0</td>\n",
       "      <td>0</td>\n",
       "      <td>1</td>\n",
       "      <td>0</td>\n",
       "      <td>0</td>\n",
       "      <td>0</td>\n",
       "    </tr>\n",
       "  </tbody>\n",
       "</table>\n",
       "<p>467 rows × 16 columns</p>\n",
       "</div>"
      ],
      "text/plain": [
       "     Popularity   Streams  Artist_Followers  Speechiness  y  Chord_A#/Bb  \\\n",
       "2          52.0   6657404        42227614.0        0.033  1            0   \n",
       "20         71.0   5112180        42227614.0        0.025  1            0   \n",
       "40         66.0   8115520        42227614.0        0.031  1            0   \n",
       "73         70.0   5564072        42227614.0        0.033  1            0   \n",
       "89         70.0   4595450        42227614.0        0.064  1            0   \n",
       "..          ...       ...               ...          ... ..          ...   \n",
       "494        85.0   5238547          924083.0        0.135  0            0   \n",
       "495        72.0   4252898        20829526.0        0.043  0            0   \n",
       "496        69.0   5234645         1758300.0        0.115  0            0   \n",
       "498        55.0  15424001         4702232.0        0.038  0            0   \n",
       "499        73.0   5201322         9398941.0        0.057  0            0   \n",
       "\n",
       "     Chord_B  Chord_C  Chord_C#/Db  Chord_D  Chord_D#/Eb  Chord_E  Chord_F  \\\n",
       "2          0        0            0        0            0        0        0   \n",
       "20         0        1            0        0            0        0        0   \n",
       "40         0        0            0        0            0        0        1   \n",
       "73         0        0            0        1            0        0        0   \n",
       "89         0        0            0        0            0        0        0   \n",
       "..       ...      ...          ...      ...          ...      ...      ...   \n",
       "494        0        0            0        0            0        0        0   \n",
       "495        0        0            0        0            0        1        0   \n",
       "496        0        0            0        0            0        0        0   \n",
       "498        0        0            0        0            0        1        0   \n",
       "499        0        0            0        0            0        0        1   \n",
       "\n",
       "     Chord_F#/Gb  Chord_G  Chord_G#/Ab  \n",
       "2              0        1            0  \n",
       "20             0        0            0  \n",
       "40             0        0            0  \n",
       "73             0        0            0  \n",
       "89             0        1            0  \n",
       "..           ...      ...          ...  \n",
       "494            0        0            1  \n",
       "495            0        0            0  \n",
       "496            0        1            0  \n",
       "498            0        0            0  \n",
       "499            0        0            0  \n",
       "\n",
       "[467 rows x 16 columns]"
      ]
     },
     "execution_count": 14,
     "metadata": {},
     "output_type": "execute_result"
    }
   ],
   "source": [
    "# filter 5 initial predictors\n",
    "\n",
    "predictors = dfl[['Popularity', 'Streams', 'Artist_Followers', 'Speechiness', 'Chord', 'y']]\n",
    "predictors= pd.get_dummies(predictors, drop_first = True)\n",
    "predictors"
   ]
  },
  {
   "cell_type": "markdown",
   "metadata": {},
   "source": [
    "### Train-test split"
   ]
  },
  {
   "cell_type": "code",
   "execution_count": 15,
   "metadata": {},
   "outputs": [],
   "source": [
    "df_train, df_test = train_test_split(predictors, test_size = 0.25, random_state = 428)"
   ]
  },
  {
   "cell_type": "code",
   "execution_count": 16,
   "metadata": {},
   "outputs": [
    {
     "data": {
      "text/plain": [
       "0.7494646680942184"
      ]
     },
     "execution_count": 16,
     "metadata": {},
     "output_type": "execute_result"
    }
   ],
   "source": [
    "#confirm df_train\n",
    "len(df_train)/len(df)"
   ]
  },
  {
   "cell_type": "code",
   "execution_count": 17,
   "metadata": {},
   "outputs": [
    {
     "data": {
      "text/plain": [
       "0    337\n",
       "1     13\n",
       "Name: y, dtype: int64"
      ]
     },
     "execution_count": 17,
     "metadata": {},
     "output_type": "execute_result"
    }
   ],
   "source": [
    "df_train['y'].value_counts()"
   ]
  },
  {
   "cell_type": "code",
   "execution_count": 18,
   "metadata": {},
   "outputs": [
    {
     "data": {
      "text/plain": [
       "0.2505353319057816"
      ]
     },
     "execution_count": 18,
     "metadata": {},
     "output_type": "execute_result"
    }
   ],
   "source": [
    "#confirm df_test\n",
    "len(df_test)/len(df)"
   ]
  },
  {
   "cell_type": "code",
   "execution_count": 19,
   "metadata": {},
   "outputs": [
    {
     "data": {
      "text/plain": [
       "0    113\n",
       "1      4\n",
       "Name: y, dtype: int64"
      ]
     },
     "execution_count": 19,
     "metadata": {},
     "output_type": "execute_result"
    }
   ],
   "source": [
    "df_test['y'].value_counts()"
   ]
  },
  {
   "cell_type": "markdown",
   "metadata": {},
   "source": [
    "### Note"
   ]
  },
  {
   "cell_type": "markdown",
   "metadata": {},
   "source": [
    "- As the above cell listed, the percentage of the singer **is** Taylor Swift is relatively small in both train and test datasets.\n",
    "- However, the percentage of the singer **is** Taylor Swift is almost the same for train and test datasets (~3%). Therefore, I decided to continue research on the classification task."
   ]
  },
  {
   "cell_type": "markdown",
   "metadata": {},
   "source": [
    "### LASSO Suggestions"
   ]
  },
  {
   "cell_type": "code",
   "execution_count": 21,
   "metadata": {},
   "outputs": [
    {
     "name": "stdout",
     "output_type": "stream",
     "text": [
      "The alpha for the lowest validation rmse for lasso model is 0.05 with rmse of 0.1746689318326312\n"
     ]
    }
   ],
   "source": [
    "#find hyperparameter\n",
    "\n",
    "lamda = [1/20, 1/15, 1/10, 1/5, 1/2]\n",
    "\n",
    "v_train, val = train_test_split(df_train, test_size = 0.25, random_state = 428)\n",
    "\n",
    "x_col = ['Popularity',\n",
    " 'Streams',\n",
    " 'Artist_Followers',\n",
    " 'Speechiness',\n",
    " 'Chord_A#/Bb',\n",
    " 'Chord_B',\n",
    " 'Chord_C',\n",
    " 'Chord_C#/Db',\n",
    " 'Chord_D',\n",
    " 'Chord_D#/Eb',\n",
    " 'Chord_E',\n",
    " 'Chord_F',\n",
    " 'Chord_F#/Gb',\n",
    " 'Chord_G',\n",
    " 'Chord_G#/Ab']\n",
    "\n",
    "X_vtrain = v_train[x_col]\n",
    "y_vtrain = v_train['y']\n",
    "\n",
    "X_val = val[x_col]\n",
    "y_val = val['y']\n",
    "\n",
    "lasso_vrmse = []\n",
    "\n",
    "for i in range(len(lamda)):\n",
    "    lasso_model = Lasso(alpha = lamda[i])\n",
    "    lasso_model.fit(X_vtrain, y_vtrain)\n",
    "    lasso_vrmse.append(mean_squared_error(y_val, lasso_model.predict(X_val), squared = False))\n",
    "\n",
    "print('The alpha for the lowest validation rmse for lasso model is', lamda[np.argmin(lasso_vrmse)], 'with rmse of', min(lasso_vrmse))"
   ]
  },
  {
   "cell_type": "markdown",
   "metadata": {},
   "source": [
    "### Refit the model with best lamda"
   ]
  },
  {
   "cell_type": "code",
   "execution_count": 22,
   "metadata": {},
   "outputs": [
    {
     "data": {
      "text/html": [
       "<style>#sk-container-id-1 {color: black;}#sk-container-id-1 pre{padding: 0;}#sk-container-id-1 div.sk-toggleable {background-color: white;}#sk-container-id-1 label.sk-toggleable__label {cursor: pointer;display: block;width: 100%;margin-bottom: 0;padding: 0.3em;box-sizing: border-box;text-align: center;}#sk-container-id-1 label.sk-toggleable__label-arrow:before {content: \"▸\";float: left;margin-right: 0.25em;color: #696969;}#sk-container-id-1 label.sk-toggleable__label-arrow:hover:before {color: black;}#sk-container-id-1 div.sk-estimator:hover label.sk-toggleable__label-arrow:before {color: black;}#sk-container-id-1 div.sk-toggleable__content {max-height: 0;max-width: 0;overflow: hidden;text-align: left;background-color: #f0f8ff;}#sk-container-id-1 div.sk-toggleable__content pre {margin: 0.2em;color: black;border-radius: 0.25em;background-color: #f0f8ff;}#sk-container-id-1 input.sk-toggleable__control:checked~div.sk-toggleable__content {max-height: 200px;max-width: 100%;overflow: auto;}#sk-container-id-1 input.sk-toggleable__control:checked~label.sk-toggleable__label-arrow:before {content: \"▾\";}#sk-container-id-1 div.sk-estimator input.sk-toggleable__control:checked~label.sk-toggleable__label {background-color: #d4ebff;}#sk-container-id-1 div.sk-label input.sk-toggleable__control:checked~label.sk-toggleable__label {background-color: #d4ebff;}#sk-container-id-1 input.sk-hidden--visually {border: 0;clip: rect(1px 1px 1px 1px);clip: rect(1px, 1px, 1px, 1px);height: 1px;margin: -1px;overflow: hidden;padding: 0;position: absolute;width: 1px;}#sk-container-id-1 div.sk-estimator {font-family: monospace;background-color: #f0f8ff;border: 1px dotted black;border-radius: 0.25em;box-sizing: border-box;margin-bottom: 0.5em;}#sk-container-id-1 div.sk-estimator:hover {background-color: #d4ebff;}#sk-container-id-1 div.sk-parallel-item::after {content: \"\";width: 100%;border-bottom: 1px solid gray;flex-grow: 1;}#sk-container-id-1 div.sk-label:hover label.sk-toggleable__label {background-color: #d4ebff;}#sk-container-id-1 div.sk-serial::before {content: \"\";position: absolute;border-left: 1px solid gray;box-sizing: border-box;top: 0;bottom: 0;left: 50%;z-index: 0;}#sk-container-id-1 div.sk-serial {display: flex;flex-direction: column;align-items: center;background-color: white;padding-right: 0.2em;padding-left: 0.2em;position: relative;}#sk-container-id-1 div.sk-item {position: relative;z-index: 1;}#sk-container-id-1 div.sk-parallel {display: flex;align-items: stretch;justify-content: center;background-color: white;position: relative;}#sk-container-id-1 div.sk-item::before, #sk-container-id-1 div.sk-parallel-item::before {content: \"\";position: absolute;border-left: 1px solid gray;box-sizing: border-box;top: 0;bottom: 0;left: 50%;z-index: -1;}#sk-container-id-1 div.sk-parallel-item {display: flex;flex-direction: column;z-index: 1;position: relative;background-color: white;}#sk-container-id-1 div.sk-parallel-item:first-child::after {align-self: flex-end;width: 50%;}#sk-container-id-1 div.sk-parallel-item:last-child::after {align-self: flex-start;width: 50%;}#sk-container-id-1 div.sk-parallel-item:only-child::after {width: 0;}#sk-container-id-1 div.sk-dashed-wrapped {border: 1px dashed gray;margin: 0 0.4em 0.5em 0.4em;box-sizing: border-box;padding-bottom: 0.4em;background-color: white;}#sk-container-id-1 div.sk-label label {font-family: monospace;font-weight: bold;display: inline-block;line-height: 1.2em;}#sk-container-id-1 div.sk-label-container {text-align: center;}#sk-container-id-1 div.sk-container {/* jupyter's `normalize.less` sets `[hidden] { display: none; }` but bootstrap.min.css set `[hidden] { display: none !important; }` so we also need the `!important` here to be able to override the default hidden behavior on the sphinx rendered scikit-learn.org. See: https://github.com/scikit-learn/scikit-learn/issues/21755 */display: inline-block !important;position: relative;}#sk-container-id-1 div.sk-text-repr-fallback {display: none;}</style><div id=\"sk-container-id-1\" class=\"sk-top-container\"><div class=\"sk-text-repr-fallback\"><pre>Lasso(alpha=0.05)</pre><b>In a Jupyter environment, please rerun this cell to show the HTML representation or trust the notebook. <br />On GitHub, the HTML representation is unable to render, please try loading this page with nbviewer.org.</b></div><div class=\"sk-container\" hidden><div class=\"sk-item\"><div class=\"sk-estimator sk-toggleable\"><input class=\"sk-toggleable__control sk-hidden--visually\" id=\"sk-estimator-id-1\" type=\"checkbox\" checked><label for=\"sk-estimator-id-1\" class=\"sk-toggleable__label sk-toggleable__label-arrow\">Lasso</label><div class=\"sk-toggleable__content\"><pre>Lasso(alpha=0.05)</pre></div></div></div></div></div>"
      ],
      "text/plain": [
       "Lasso(alpha=0.05)"
      ]
     },
     "execution_count": 22,
     "metadata": {},
     "output_type": "execute_result"
    }
   ],
   "source": [
    "X_train = df_train[x_col]\n",
    "y_train = df_train['y']\n",
    "\n",
    "best_lasso = Lasso(alpha = 0.05)\n",
    "best_lasso.fit(X_train, y_train)"
   ]
  },
  {
   "cell_type": "code",
   "execution_count": 23,
   "metadata": {},
   "outputs": [
    {
     "data": {
      "text/html": [
       "<div>\n",
       "<style scoped>\n",
       "    .dataframe tbody tr th:only-of-type {\n",
       "        vertical-align: middle;\n",
       "    }\n",
       "\n",
       "    .dataframe tbody tr th {\n",
       "        vertical-align: top;\n",
       "    }\n",
       "\n",
       "    .dataframe thead th {\n",
       "        text-align: right;\n",
       "    }\n",
       "</style>\n",
       "<table border=\"1\" class=\"dataframe\">\n",
       "  <thead>\n",
       "    <tr style=\"text-align: right;\">\n",
       "      <th></th>\n",
       "      <th>LASSO20</th>\n",
       "    </tr>\n",
       "  </thead>\n",
       "  <tbody>\n",
       "    <tr>\n",
       "      <th>Popularity</th>\n",
       "      <td>-1.167441e-03</td>\n",
       "    </tr>\n",
       "    <tr>\n",
       "      <th>Streams</th>\n",
       "      <td>3.249387e-09</td>\n",
       "    </tr>\n",
       "    <tr>\n",
       "      <th>Artist_Followers</th>\n",
       "      <td>2.994108e-09</td>\n",
       "    </tr>\n",
       "    <tr>\n",
       "      <th>Speechiness</th>\n",
       "      <td>-0.000000e+00</td>\n",
       "    </tr>\n",
       "    <tr>\n",
       "      <th>Chord_A#/Bb</th>\n",
       "      <td>0.000000e+00</td>\n",
       "    </tr>\n",
       "    <tr>\n",
       "      <th>Chord_B</th>\n",
       "      <td>0.000000e+00</td>\n",
       "    </tr>\n",
       "    <tr>\n",
       "      <th>Chord_C</th>\n",
       "      <td>0.000000e+00</td>\n",
       "    </tr>\n",
       "    <tr>\n",
       "      <th>Chord_C#/Db</th>\n",
       "      <td>-0.000000e+00</td>\n",
       "    </tr>\n",
       "    <tr>\n",
       "      <th>Chord_D</th>\n",
       "      <td>-0.000000e+00</td>\n",
       "    </tr>\n",
       "    <tr>\n",
       "      <th>Chord_D#/Eb</th>\n",
       "      <td>-0.000000e+00</td>\n",
       "    </tr>\n",
       "    <tr>\n",
       "      <th>Chord_E</th>\n",
       "      <td>-0.000000e+00</td>\n",
       "    </tr>\n",
       "    <tr>\n",
       "      <th>Chord_F</th>\n",
       "      <td>0.000000e+00</td>\n",
       "    </tr>\n",
       "    <tr>\n",
       "      <th>Chord_F#/Gb</th>\n",
       "      <td>0.000000e+00</td>\n",
       "    </tr>\n",
       "    <tr>\n",
       "      <th>Chord_G</th>\n",
       "      <td>0.000000e+00</td>\n",
       "    </tr>\n",
       "    <tr>\n",
       "      <th>Chord_G#/Ab</th>\n",
       "      <td>0.000000e+00</td>\n",
       "    </tr>\n",
       "  </tbody>\n",
       "</table>\n",
       "</div>"
      ],
      "text/plain": [
       "                       LASSO20\n",
       "Popularity       -1.167441e-03\n",
       "Streams           3.249387e-09\n",
       "Artist_Followers  2.994108e-09\n",
       "Speechiness      -0.000000e+00\n",
       "Chord_A#/Bb       0.000000e+00\n",
       "Chord_B           0.000000e+00\n",
       "Chord_C           0.000000e+00\n",
       "Chord_C#/Db      -0.000000e+00\n",
       "Chord_D          -0.000000e+00\n",
       "Chord_D#/Eb      -0.000000e+00\n",
       "Chord_E          -0.000000e+00\n",
       "Chord_F           0.000000e+00\n",
       "Chord_F#/Gb       0.000000e+00\n",
       "Chord_G           0.000000e+00\n",
       "Chord_G#/Ab       0.000000e+00"
      ]
     },
     "execution_count": 23,
     "metadata": {},
     "output_type": "execute_result"
    }
   ],
   "source": [
    "lcoef = pd.DataFrame(best_lasso.coef_.T, columns = ['LASSO20'], index = x_col)\n",
    "lcoef"
   ]
  },
  {
   "cell_type": "code",
   "execution_count": 24,
   "metadata": {},
   "outputs": [
    {
     "name": "stdout",
     "output_type": "stream",
     "text": [
      "Suggest by two LASSO models, the predictors that are most likely to be removed are Speechiness and Chord.\n"
     ]
    }
   ],
   "source": [
    "print('Suggest by two LASSO models, the predictors that are most likely to be removed are Speechiness and Chord.')"
   ]
  },
  {
   "cell_type": "markdown",
   "metadata": {},
   "source": [
    "### Ridge Suggestion"
   ]
  },
  {
   "cell_type": "code",
   "execution_count": 25,
   "metadata": {},
   "outputs": [
    {
     "name": "stdout",
     "output_type": "stream",
     "text": [
      "The alpha for the lowest validation rmse for ridge model is 0.5 with rmse of 0.17710537902016266\n"
     ]
    },
    {
     "name": "stderr",
     "output_type": "stream",
     "text": [
      "/Users/wjt/opt/anaconda3/lib/python3.9/site-packages/sklearn/linear_model/_ridge.py:211: LinAlgWarning: Ill-conditioned matrix (rcond=1.69681e-17): result may not be accurate.\n",
      "  return linalg.solve(A, Xy, assume_a=\"pos\", overwrite_a=True).T\n",
      "/Users/wjt/opt/anaconda3/lib/python3.9/site-packages/sklearn/linear_model/_ridge.py:211: LinAlgWarning: Ill-conditioned matrix (rcond=1.71347e-17): result may not be accurate.\n",
      "  return linalg.solve(A, Xy, assume_a=\"pos\", overwrite_a=True).T\n",
      "/Users/wjt/opt/anaconda3/lib/python3.9/site-packages/sklearn/linear_model/_ridge.py:211: LinAlgWarning: Ill-conditioned matrix (rcond=1.74681e-17): result may not be accurate.\n",
      "  return linalg.solve(A, Xy, assume_a=\"pos\", overwrite_a=True).T\n",
      "/Users/wjt/opt/anaconda3/lib/python3.9/site-packages/sklearn/linear_model/_ridge.py:211: LinAlgWarning: Ill-conditioned matrix (rcond=1.8472e-17): result may not be accurate.\n",
      "  return linalg.solve(A, Xy, assume_a=\"pos\", overwrite_a=True).T\n",
      "/Users/wjt/opt/anaconda3/lib/python3.9/site-packages/sklearn/linear_model/_ridge.py:211: LinAlgWarning: Ill-conditioned matrix (rcond=2.15128e-17): result may not be accurate.\n",
      "  return linalg.solve(A, Xy, assume_a=\"pos\", overwrite_a=True).T\n"
     ]
    }
   ],
   "source": [
    "ridge_vrmse = []\n",
    "\n",
    "for i in range(len(lamda)):\n",
    "    ridge_model = Ridge(alpha = lamda[i])\n",
    "    ridge_model.fit(X_vtrain, y_vtrain)\n",
    "    ridge_vrmse.append(mean_squared_error(y_val, ridge_model.predict(X_val), squared = False))\n",
    "\n",
    "print('The alpha for the lowest validation rmse for ridge model is', lamda[np.argmin(ridge_vrmse)], 'with rmse of', min(ridge_vrmse))"
   ]
  },
  {
   "cell_type": "code",
   "execution_count": 26,
   "metadata": {},
   "outputs": [
    {
     "name": "stderr",
     "output_type": "stream",
     "text": [
      "/Users/wjt/opt/anaconda3/lib/python3.9/site-packages/sklearn/linear_model/_ridge.py:211: LinAlgWarning: Ill-conditioned matrix (rcond=1.9056e-17): result may not be accurate.\n",
      "  return linalg.solve(A, Xy, assume_a=\"pos\", overwrite_a=True).T\n"
     ]
    },
    {
     "data": {
      "text/html": [
       "<style>#sk-container-id-2 {color: black;}#sk-container-id-2 pre{padding: 0;}#sk-container-id-2 div.sk-toggleable {background-color: white;}#sk-container-id-2 label.sk-toggleable__label {cursor: pointer;display: block;width: 100%;margin-bottom: 0;padding: 0.3em;box-sizing: border-box;text-align: center;}#sk-container-id-2 label.sk-toggleable__label-arrow:before {content: \"▸\";float: left;margin-right: 0.25em;color: #696969;}#sk-container-id-2 label.sk-toggleable__label-arrow:hover:before {color: black;}#sk-container-id-2 div.sk-estimator:hover label.sk-toggleable__label-arrow:before {color: black;}#sk-container-id-2 div.sk-toggleable__content {max-height: 0;max-width: 0;overflow: hidden;text-align: left;background-color: #f0f8ff;}#sk-container-id-2 div.sk-toggleable__content pre {margin: 0.2em;color: black;border-radius: 0.25em;background-color: #f0f8ff;}#sk-container-id-2 input.sk-toggleable__control:checked~div.sk-toggleable__content {max-height: 200px;max-width: 100%;overflow: auto;}#sk-container-id-2 input.sk-toggleable__control:checked~label.sk-toggleable__label-arrow:before {content: \"▾\";}#sk-container-id-2 div.sk-estimator input.sk-toggleable__control:checked~label.sk-toggleable__label {background-color: #d4ebff;}#sk-container-id-2 div.sk-label input.sk-toggleable__control:checked~label.sk-toggleable__label {background-color: #d4ebff;}#sk-container-id-2 input.sk-hidden--visually {border: 0;clip: rect(1px 1px 1px 1px);clip: rect(1px, 1px, 1px, 1px);height: 1px;margin: -1px;overflow: hidden;padding: 0;position: absolute;width: 1px;}#sk-container-id-2 div.sk-estimator {font-family: monospace;background-color: #f0f8ff;border: 1px dotted black;border-radius: 0.25em;box-sizing: border-box;margin-bottom: 0.5em;}#sk-container-id-2 div.sk-estimator:hover {background-color: #d4ebff;}#sk-container-id-2 div.sk-parallel-item::after {content: \"\";width: 100%;border-bottom: 1px solid gray;flex-grow: 1;}#sk-container-id-2 div.sk-label:hover label.sk-toggleable__label {background-color: #d4ebff;}#sk-container-id-2 div.sk-serial::before {content: \"\";position: absolute;border-left: 1px solid gray;box-sizing: border-box;top: 0;bottom: 0;left: 50%;z-index: 0;}#sk-container-id-2 div.sk-serial {display: flex;flex-direction: column;align-items: center;background-color: white;padding-right: 0.2em;padding-left: 0.2em;position: relative;}#sk-container-id-2 div.sk-item {position: relative;z-index: 1;}#sk-container-id-2 div.sk-parallel {display: flex;align-items: stretch;justify-content: center;background-color: white;position: relative;}#sk-container-id-2 div.sk-item::before, #sk-container-id-2 div.sk-parallel-item::before {content: \"\";position: absolute;border-left: 1px solid gray;box-sizing: border-box;top: 0;bottom: 0;left: 50%;z-index: -1;}#sk-container-id-2 div.sk-parallel-item {display: flex;flex-direction: column;z-index: 1;position: relative;background-color: white;}#sk-container-id-2 div.sk-parallel-item:first-child::after {align-self: flex-end;width: 50%;}#sk-container-id-2 div.sk-parallel-item:last-child::after {align-self: flex-start;width: 50%;}#sk-container-id-2 div.sk-parallel-item:only-child::after {width: 0;}#sk-container-id-2 div.sk-dashed-wrapped {border: 1px dashed gray;margin: 0 0.4em 0.5em 0.4em;box-sizing: border-box;padding-bottom: 0.4em;background-color: white;}#sk-container-id-2 div.sk-label label {font-family: monospace;font-weight: bold;display: inline-block;line-height: 1.2em;}#sk-container-id-2 div.sk-label-container {text-align: center;}#sk-container-id-2 div.sk-container {/* jupyter's `normalize.less` sets `[hidden] { display: none; }` but bootstrap.min.css set `[hidden] { display: none !important; }` so we also need the `!important` here to be able to override the default hidden behavior on the sphinx rendered scikit-learn.org. See: https://github.com/scikit-learn/scikit-learn/issues/21755 */display: inline-block !important;position: relative;}#sk-container-id-2 div.sk-text-repr-fallback {display: none;}</style><div id=\"sk-container-id-2\" class=\"sk-top-container\"><div class=\"sk-text-repr-fallback\"><pre>Ridge(alpha=0.5)</pre><b>In a Jupyter environment, please rerun this cell to show the HTML representation or trust the notebook. <br />On GitHub, the HTML representation is unable to render, please try loading this page with nbviewer.org.</b></div><div class=\"sk-container\" hidden><div class=\"sk-item\"><div class=\"sk-estimator sk-toggleable\"><input class=\"sk-toggleable__control sk-hidden--visually\" id=\"sk-estimator-id-2\" type=\"checkbox\" checked><label for=\"sk-estimator-id-2\" class=\"sk-toggleable__label sk-toggleable__label-arrow\">Ridge</label><div class=\"sk-toggleable__content\"><pre>Ridge(alpha=0.5)</pre></div></div></div></div></div>"
      ],
      "text/plain": [
       "Ridge(alpha=0.5)"
      ]
     },
     "execution_count": 26,
     "metadata": {},
     "output_type": "execute_result"
    }
   ],
   "source": [
    "best_ridge = Ridge(alpha = 0.5)\n",
    "best_ridge.fit(X_train, y_train)"
   ]
  },
  {
   "cell_type": "code",
   "execution_count": 27,
   "metadata": {},
   "outputs": [
    {
     "data": {
      "text/html": [
       "<div>\n",
       "<style scoped>\n",
       "    .dataframe tbody tr th:only-of-type {\n",
       "        vertical-align: middle;\n",
       "    }\n",
       "\n",
       "    .dataframe tbody tr th {\n",
       "        vertical-align: top;\n",
       "    }\n",
       "\n",
       "    .dataframe thead th {\n",
       "        text-align: right;\n",
       "    }\n",
       "</style>\n",
       "<table border=\"1\" class=\"dataframe\">\n",
       "  <thead>\n",
       "    <tr style=\"text-align: right;\">\n",
       "      <th></th>\n",
       "      <th>RIDGE05</th>\n",
       "    </tr>\n",
       "  </thead>\n",
       "  <tbody>\n",
       "    <tr>\n",
       "      <th>Popularity</th>\n",
       "      <td>-1.884324e-03</td>\n",
       "    </tr>\n",
       "    <tr>\n",
       "      <th>Streams</th>\n",
       "      <td>3.818640e-09</td>\n",
       "    </tr>\n",
       "    <tr>\n",
       "      <th>Artist_Followers</th>\n",
       "      <td>2.856522e-09</td>\n",
       "    </tr>\n",
       "    <tr>\n",
       "      <th>Speechiness</th>\n",
       "      <td>-1.623343e-01</td>\n",
       "    </tr>\n",
       "    <tr>\n",
       "      <th>Chord_A#/Bb</th>\n",
       "      <td>2.310657e-02</td>\n",
       "    </tr>\n",
       "    <tr>\n",
       "      <th>Chord_B</th>\n",
       "      <td>2.666949e-02</td>\n",
       "    </tr>\n",
       "    <tr>\n",
       "      <th>Chord_C</th>\n",
       "      <td>8.023833e-03</td>\n",
       "    </tr>\n",
       "    <tr>\n",
       "      <th>Chord_C#/Db</th>\n",
       "      <td>-2.545216e-02</td>\n",
       "    </tr>\n",
       "    <tr>\n",
       "      <th>Chord_D</th>\n",
       "      <td>-1.701742e-02</td>\n",
       "    </tr>\n",
       "    <tr>\n",
       "      <th>Chord_D#/Eb</th>\n",
       "      <td>-4.224526e-02</td>\n",
       "    </tr>\n",
       "    <tr>\n",
       "      <th>Chord_E</th>\n",
       "      <td>-1.268154e-02</td>\n",
       "    </tr>\n",
       "    <tr>\n",
       "      <th>Chord_F</th>\n",
       "      <td>4.311223e-02</td>\n",
       "    </tr>\n",
       "    <tr>\n",
       "      <th>Chord_F#/Gb</th>\n",
       "      <td>2.118761e-02</td>\n",
       "    </tr>\n",
       "    <tr>\n",
       "      <th>Chord_G</th>\n",
       "      <td>2.022376e-02</td>\n",
       "    </tr>\n",
       "    <tr>\n",
       "      <th>Chord_G#/Ab</th>\n",
       "      <td>6.856250e-03</td>\n",
       "    </tr>\n",
       "  </tbody>\n",
       "</table>\n",
       "</div>"
      ],
      "text/plain": [
       "                       RIDGE05\n",
       "Popularity       -1.884324e-03\n",
       "Streams           3.818640e-09\n",
       "Artist_Followers  2.856522e-09\n",
       "Speechiness      -1.623343e-01\n",
       "Chord_A#/Bb       2.310657e-02\n",
       "Chord_B           2.666949e-02\n",
       "Chord_C           8.023833e-03\n",
       "Chord_C#/Db      -2.545216e-02\n",
       "Chord_D          -1.701742e-02\n",
       "Chord_D#/Eb      -4.224526e-02\n",
       "Chord_E          -1.268154e-02\n",
       "Chord_F           4.311223e-02\n",
       "Chord_F#/Gb       2.118761e-02\n",
       "Chord_G           2.022376e-02\n",
       "Chord_G#/Ab       6.856250e-03"
      ]
     },
     "execution_count": 27,
     "metadata": {},
     "output_type": "execute_result"
    }
   ],
   "source": [
    "rcoef = pd.DataFrame(best_ridge.coef_.T, columns = ['RIDGE05'], index = x_col)\n",
    "rcoef"
   ]
  },
  {
   "cell_type": "markdown",
   "metadata": {},
   "source": [
    "- Suggest by two Ridge models, the predictors that are most likely to be removed are Stream and Artist_follower. \n",
    "- However, this might now be reliable because the Chord has a lot of subcolumn that may drag the coefficient away so I decided to go with Lasso\n",
    "- I will perform backwoard elimination in the next step to confirm this information."
   ]
  },
  {
   "cell_type": "markdown",
   "metadata": {},
   "source": [
    "### Backward Elimination"
   ]
  },
  {
   "cell_type": "code",
   "execution_count": 30,
   "metadata": {},
   "outputs": [
    {
     "name": "stdout",
     "output_type": "stream",
     "text": [
      "Warning: Maximum number of iterations has been exceeded.\n",
      "         Current function value: 0.099967\n",
      "         Iterations: 35\n",
      "Adjusted BIC of the Current Model 163.7038857884545\n"
     ]
    },
    {
     "name": "stderr",
     "output_type": "stream",
     "text": [
      "/Users/wjt/opt/anaconda3/lib/python3.9/site-packages/statsmodels/base/model.py:604: ConvergenceWarning: Maximum Likelihood optimization failed to converge. Check mle_retvals\n",
      "  warnings.warn(\"Maximum Likelihood optimization failed to \"\n"
     ]
    }
   ],
   "source": [
    "#start of the backward elimination using BIC\n",
    "#no predictor removed\n",
    "current_mod=smf.logit('y ~ Popularity + Streams+ Artist_Followers + Chord + Speechiness', data=df_train).fit()\n",
    "print('Adjusted BIC of the Current Model',current_mod.bic)"
   ]
  },
  {
   "cell_type": "code",
   "execution_count": 31,
   "metadata": {},
   "outputs": [
    {
     "name": "stdout",
     "output_type": "stream",
     "text": [
      "Warning: Maximum number of iterations has been exceeded.\n",
      "         Current function value: 0.103595\n",
      "         Iterations: 35\n",
      "the BIC of the Current Model 160.38548376490328\n"
     ]
    },
    {
     "name": "stderr",
     "output_type": "stream",
     "text": [
      "/Users/wjt/opt/anaconda3/lib/python3.9/site-packages/statsmodels/base/model.py:604: ConvergenceWarning: Maximum Likelihood optimization failed to converge. Check mle_retvals\n",
      "  warnings.warn(\"Maximum Likelihood optimization failed to \"\n"
     ]
    }
   ],
   "source": [
    "#remove Popularity\n",
    "test1_mod=smf.logit('y ~ Streams+ Artist_Followers + Chord + Speechiness', data=df_train).fit()\n",
    "print('the BIC of the Current Model',test1_mod.bic)"
   ]
  },
  {
   "cell_type": "code",
   "execution_count": 32,
   "metadata": {},
   "outputs": [
    {
     "name": "stdout",
     "output_type": "stream",
     "text": [
      "Warning: Maximum number of iterations has been exceeded.\n",
      "         Current function value: 0.100284\n",
      "         Iterations: 35\n",
      "the BIC of the Current Model 158.06775264187579\n"
     ]
    },
    {
     "name": "stderr",
     "output_type": "stream",
     "text": [
      "/Users/wjt/opt/anaconda3/lib/python3.9/site-packages/statsmodels/base/model.py:604: ConvergenceWarning: Maximum Likelihood optimization failed to converge. Check mle_retvals\n",
      "  warnings.warn(\"Maximum Likelihood optimization failed to \"\n"
     ]
    }
   ],
   "source": [
    "#remove Streams\n",
    "test2_mod=smf.logit('y ~ Popularity + Artist_Followers + Chord + Speechiness', data=df_train).fit()\n",
    "print('the BIC of the Current Model',test2_mod.bic)"
   ]
  },
  {
   "cell_type": "code",
   "execution_count": 33,
   "metadata": {},
   "outputs": [
    {
     "name": "stdout",
     "output_type": "stream",
     "text": [
      "Warning: Maximum number of iterations has been exceeded.\n",
      "         Current function value: 0.128741\n",
      "         Iterations: 35\n",
      "the BIC of the Current Model 177.98754262570765\n"
     ]
    },
    {
     "name": "stderr",
     "output_type": "stream",
     "text": [
      "/Users/wjt/opt/anaconda3/lib/python3.9/site-packages/statsmodels/base/model.py:604: ConvergenceWarning: Maximum Likelihood optimization failed to converge. Check mle_retvals\n",
      "  warnings.warn(\"Maximum Likelihood optimization failed to \"\n"
     ]
    }
   ],
   "source": [
    "#remove Artist_Followers\n",
    "test3_mod=smf.logit('y ~ Popularity + Streams+ Chord + Speechiness', data=df_train).fit()\n",
    "print('the BIC of the Current Model',test3_mod.bic)"
   ]
  },
  {
   "cell_type": "code",
   "execution_count": 34,
   "metadata": {},
   "outputs": [
    {
     "name": "stdout",
     "output_type": "stream",
     "text": [
      "Optimization terminated successfully.\n",
      "         Current function value: 0.112624\n",
      "         Iterations 10\n",
      "the BIC of the Current Model 108.12655804070566\n"
     ]
    }
   ],
   "source": [
    "#remove Chord\n",
    "test4_mod=smf.logit('y ~ Popularity + Streams+ Artist_Followers + Speechiness', data=df_train).fit()\n",
    "print('the BIC of the Current Model',test4_mod.bic)"
   ]
  },
  {
   "cell_type": "code",
   "execution_count": 35,
   "metadata": {},
   "outputs": [
    {
     "name": "stdout",
     "output_type": "stream",
     "text": [
      "Warning: Maximum number of iterations has been exceeded.\n",
      "         Current function value: 0.111996\n",
      "         Iterations: 35\n",
      "the BIC of the Current Model 166.26609433353002\n"
     ]
    },
    {
     "name": "stderr",
     "output_type": "stream",
     "text": [
      "/Users/wjt/opt/anaconda3/lib/python3.9/site-packages/statsmodels/base/model.py:604: ConvergenceWarning: Maximum Likelihood optimization failed to converge. Check mle_retvals\n",
      "  warnings.warn(\"Maximum Likelihood optimization failed to \"\n"
     ]
    }
   ],
   "source": [
    "#remove speechiness\n",
    "test5_mod=smf.logit('y ~ Popularity + Streams+ Artist_Followers + Chord', data=df_train).fit()\n",
    "print('the BIC of the Current Model',test5_mod.bic)"
   ]
  },
  {
   "cell_type": "code",
   "execution_count": 36,
   "metadata": {},
   "outputs": [
    {
     "name": "stdout",
     "output_type": "stream",
     "text": [
      "the first predictor that is removed is Chord, the BIC for this model is 108.126\n"
     ]
    }
   ],
   "source": [
    "print('the first predictor that is removed is Chord, the BIC for this model is 108.126')"
   ]
  },
  {
   "cell_type": "code",
   "execution_count": 37,
   "metadata": {},
   "outputs": [
    {
     "name": "stdout",
     "output_type": "stream",
     "text": [
      "Optimization terminated successfully.\n",
      "         Current function value: 0.118898\n",
      "         Iterations 10\n",
      "the BIC of the Current Model 106.66049345364193\n"
     ]
    }
   ],
   "source": [
    "#remove chord + popularity\n",
    "test6_mod=smf.logit('y ~ Streams+ Artist_Followers + Speechiness', data=df_train).fit()\n",
    "print('the BIC of the Current Model',test6_mod.bic)"
   ]
  },
  {
   "cell_type": "code",
   "execution_count": 38,
   "metadata": {},
   "outputs": [
    {
     "name": "stdout",
     "output_type": "stream",
     "text": [
      "Optimization terminated successfully.\n",
      "         Current function value: 0.113516\n",
      "         Iterations 10\n",
      "the BIC of the Current Model 102.89325752906673\n"
     ]
    }
   ],
   "source": [
    "#remove chord + stream\n",
    "test7_mod=smf.logit('y ~ Popularity+ Artist_Followers + Speechiness', data=df_train).fit()\n",
    "print('the BIC of the Current Model',test7_mod.bic)"
   ]
  },
  {
   "cell_type": "code",
   "execution_count": 39,
   "metadata": {},
   "outputs": [
    {
     "name": "stdout",
     "output_type": "stream",
     "text": [
      "Optimization terminated successfully.\n",
      "         Current function value: 0.142780\n",
      "         Iterations 10\n",
      "the BIC of the Current Model 123.37792828515909\n"
     ]
    }
   ],
   "source": [
    "#remove chord + artist_followers\n",
    "test8_mod=smf.logit('y ~ Streams+ Popularity + Speechiness', data=df_train).fit()\n",
    "print('the BIC of the Current Model',test8_mod.bic)"
   ]
  },
  {
   "cell_type": "code",
   "execution_count": 40,
   "metadata": {},
   "outputs": [
    {
     "name": "stdout",
     "output_type": "stream",
     "text": [
      "Optimization terminated successfully.\n",
      "         Current function value: 0.122947\n",
      "         Iterations 9\n",
      "the BIC of the Current Model 109.49481640981794\n"
     ]
    }
   ],
   "source": [
    "#remove chrod + Speechiness\n",
    "test9_mod=smf.logit('y ~ Streams+ Popularity + Artist_Followers', data=df_train).fit()\n",
    "print('the BIC of the Current Model',test9_mod.bic)"
   ]
  },
  {
   "cell_type": "code",
   "execution_count": 41,
   "metadata": {},
   "outputs": [
    {
     "name": "stdout",
     "output_type": "stream",
     "text": [
      "the second predictor that is removed is Stream, the BIC for that model is 102.89\n"
     ]
    }
   ],
   "source": [
    "print('the second predictor that is removed is Stream, the BIC for that model is 102.89')"
   ]
  },
  {
   "cell_type": "code",
   "execution_count": 42,
   "metadata": {},
   "outputs": [
    {
     "name": "stdout",
     "output_type": "stream",
     "text": [
      "Optimization terminated successfully.\n",
      "         Current function value: 0.119709\n",
      "         Iterations 10\n",
      "the BIC of the Current Model 101.36992295116823\n"
     ]
    }
   ],
   "source": [
    "#remove chord + stream + popularity\n",
    "test10_mod=smf.logit('y ~ Artist_Followers + Speechiness', data=df_train).fit()\n",
    "print('the BIC of the Current Model',test10_mod.bic)"
   ]
  },
  {
   "cell_type": "code",
   "execution_count": 43,
   "metadata": {},
   "outputs": [
    {
     "name": "stdout",
     "output_type": "stream",
     "text": [
      "Optimization terminated successfully.\n",
      "         Current function value: 0.144255\n",
      "         Iterations 10\n",
      "the BIC of the Current Model 118.55209757096318\n"
     ]
    }
   ],
   "source": [
    "#remove chord + stream + artist_followers\n",
    "test11_mod=smf.logit('y ~  Speechiness+ Popularity', data=df_train).fit()\n",
    "print('the BIC of the Current Model',test11_mod.bic)"
   ]
  },
  {
   "cell_type": "code",
   "execution_count": 44,
   "metadata": {},
   "outputs": [
    {
     "name": "stdout",
     "output_type": "stream",
     "text": [
      "Optimization terminated successfully.\n",
      "         Current function value: 0.124105\n",
      "         Iterations 9\n",
      "the BIC of the Current Model 104.44734813977553\n"
     ]
    }
   ],
   "source": [
    "#remove chord + stream + speechiness\n",
    "test12_mod=smf.logit('y ~  Popularity+ Artist_Followers', data=df_train).fit()\n",
    "print('the BIC of the Current Model',test12_mod.bic)"
   ]
  },
  {
   "cell_type": "code",
   "execution_count": 45,
   "metadata": {},
   "outputs": [
    {
     "name": "stdout",
     "output_type": "stream",
     "text": [
      "For now, the model that has [Artist_follower + Speechiness] has the lowest BIC of 101.36992295116823\n"
     ]
    }
   ],
   "source": [
    "print('For now, the model that has [Artist_follower + Speechiness] has the lowest BIC of 101.36992295116823')"
   ]
  },
  {
   "cell_type": "code",
   "execution_count": 46,
   "metadata": {},
   "outputs": [
    {
     "name": "stdout",
     "output_type": "stream",
     "text": [
      "Optimization terminated successfully.\n",
      "         Current function value: 0.147369\n",
      "         Iterations 10\n",
      "the BIC of the Current Model 114.87405516773063\n"
     ]
    }
   ],
   "source": [
    "#remove chord + stream + popularity + artist_floowers\n",
    "test13_mod=smf.logit('y ~ Speechiness', data=df_train).fit()\n",
    "print('the BIC of the Current Model',test13_mod.bic)"
   ]
  },
  {
   "cell_type": "code",
   "execution_count": 47,
   "metadata": {},
   "outputs": [
    {
     "name": "stdout",
     "output_type": "stream",
     "text": [
      "Optimization terminated successfully.\n",
      "         Current function value: 0.128846\n",
      "         Iterations 8\n",
      "the BIC of the Current Model 101.90825216666956\n"
     ]
    }
   ],
   "source": [
    "#remove chord + stream + popularity + Speechiness\n",
    "test14_mod=smf.logit('y ~ Artist_Followers', data=df_train).fit()\n",
    "print('the BIC of the Current Model',test14_mod.bic)"
   ]
  },
  {
   "cell_type": "code",
   "execution_count": 48,
   "metadata": {},
   "outputs": [
    {
     "name": "stdout",
     "output_type": "stream",
     "text": [
      "the parsomonious model has the lowest BIC score of 101.37\n",
      "The parsimoneous model to predict whether the artist is Taylor Swift from this data is [Artist_follower + Speechiness]\n"
     ]
    }
   ],
   "source": [
    "print('the parsomonious model has the lowest BIC score of 101.37')\n",
    "print('The parsimoneous model to predict whether the artist is Taylor Swift from this data is [Artist_follower + Speechiness]')"
   ]
  },
  {
   "cell_type": "markdown",
   "metadata": {},
   "source": [
    "### Checking Assumptions"
   ]
  },
  {
   "cell_type": "markdown",
   "metadata": {},
   "source": [
    "1. Linear: the first predictor [Artist_Followers] shows an S curve on the lmplot, but the second predictor [Speechiness] does not show an S curve in the lmplot, so this condition is not met.\n",
    "\n",
    "- undefined. Independence: sample size n < 10% of population N and this is a random sample (based on kaggle.com), so this condition is met\n",
    "- undefined. No  (Multicollinearity: no collinearity is plausible since the correlation between two predictors is very weak. (either met/not met)"
   ]
  },
  {
   "cell_type": "code",
   "execution_count": 49,
   "metadata": {},
   "outputs": [
    {
     "data": {
      "image/png": "[encoded data removed]",
      "text/plain": [
       "<Figure size 360x360 with 1 Axes>"
      ]
     },
     "metadata": {},
     "output_type": "display_data"
    }
   ],
   "source": [
    "#1. Linear Assumption for quan predictor (1)\n",
    "sns.lmplot(x = 'Artist_Followers', y = 'y', data = dfl, logistic = True)\n",
    "plt.ylabel('1 = is Taylor, 0 = not Taylor')\n",
    "plt.show()"
   ]
  },
  {
   "cell_type": "code",
   "execution_count": 50,
   "metadata": {},
   "outputs": [
    {
     "data": {
      "image/png": "[encoded data removed]",
      "text/plain": [
       "<Figure size 360x360 with 1 Axes>"
      ]
     },
     "metadata": {},
     "output_type": "display_data"
    }
   ],
   "source": [
    "#1. Linear Assumption for quan predictor (2)\n",
    "sns.lmplot(x = 'Speechiness', y = 'y', data = dfl, logistic = True)\n",
    "plt.ylabel('1 = is Taylor, 0 = not Taylor')\n",
    "plt.show()"
   ]
  },
  {
   "cell_type": "code",
   "execution_count": 51,
   "metadata": {},
   "outputs": [
    {
     "data": {
      "text/plain": [
       "<seaborn.axisgrid.PairGrid at 0x7f96b97c4250>"
      ]
     },
     "execution_count": 51,
     "metadata": {},
     "output_type": "execute_result"
    },
    {
     "data": {
      "image/png": "[encoded data removed]",
      "text/plain": [
       "<Figure size 540x540 with 12 Axes>"
      ]
     },
     "metadata": {},
     "output_type": "display_data"
    }
   ],
   "source": [
    "# 3. No Colinearity\n",
    "dfl = dfl[['y', 'Speechiness', 'Artist_Followers']]\n",
    "sns.pairplot(dfl)"
   ]
  },
  {
   "cell_type": "markdown",
   "metadata": {},
   "source": [
    "### Best Model"
   ]
  },
  {
   "cell_type": "code",
   "execution_count": 52,
   "metadata": {},
   "outputs": [
    {
     "name": "stdout",
     "output_type": "stream",
     "text": [
      "Optimization terminated successfully.\n",
      "         Current function value: 0.119709\n",
      "         Iterations 10\n"
     ]
    },
    {
     "data": {
      "text/html": [
       "<table class=\"simpletable\">\n",
       "<caption>Logit Regression Results</caption>\n",
       "<tr>\n",
       "  <th>Dep. Variable:</th>           <td>y</td>        <th>  No. Observations:  </th>  <td>   350</td>  \n",
       "</tr>\n",
       "<tr>\n",
       "  <th>Model:</th>                 <td>Logit</td>      <th>  Df Residuals:      </th>  <td>   347</td>  \n",
       "</tr>\n",
       "<tr>\n",
       "  <th>Method:</th>                 <td>MLE</td>       <th>  Df Model:          </th>  <td>     2</td>  \n",
       "</tr>\n",
       "<tr>\n",
       "  <th>Date:</th>            <td>Tue, 10 Oct 2023</td> <th>  Pseudo R-squ.:     </th>  <td>0.2460</td>  \n",
       "</tr>\n",
       "<tr>\n",
       "  <th>Time:</th>                <td>06:20:01</td>     <th>  Log-Likelihood:    </th> <td> -41.898</td> \n",
       "</tr>\n",
       "<tr>\n",
       "  <th>converged:</th>             <td>True</td>       <th>  LL-Null:           </th> <td> -55.564</td> \n",
       "</tr>\n",
       "<tr>\n",
       "  <th>Covariance Type:</th>     <td>nonrobust</td>    <th>  LLR p-value:       </th> <td>1.161e-06</td>\n",
       "</tr>\n",
       "</table>\n",
       "<table class=\"simpletable\">\n",
       "<tr>\n",
       "          <td></td>            <th>coef</th>     <th>std err</th>      <th>z</th>      <th>P>|z|</th>  <th>[0.025</th>    <th>0.975]</th>  \n",
       "</tr>\n",
       "<tr>\n",
       "  <th>Intercept</th>        <td>   -3.8339</td> <td>    0.749</td> <td>   -5.120</td> <td> 0.000</td> <td>   -5.301</td> <td>   -2.366</td>\n",
       "</tr>\n",
       "<tr>\n",
       "  <th>Artist_Followers</th> <td> 6.066e-08</td> <td> 1.48e-08</td> <td>    4.101</td> <td> 0.000</td> <td> 3.17e-08</td> <td> 8.97e-08</td>\n",
       "</tr>\n",
       "<tr>\n",
       "  <th>Speechiness</th>      <td>  -13.3199</td> <td>    7.255</td> <td>   -1.836</td> <td> 0.066</td> <td>  -27.540</td> <td>    0.900</td>\n",
       "</tr>\n",
       "</table>"
      ],
      "text/plain": [
       "<class 'statsmodels.iolib.summary.Summary'>\n",
       "\"\"\"\n",
       "                           Logit Regression Results                           \n",
       "==============================================================================\n",
       "Dep. Variable:                      y   No. Observations:                  350\n",
       "Model:                          Logit   Df Residuals:                      347\n",
       "Method:                           MLE   Df Model:                            2\n",
       "Date:                Tue, 10 Oct 2023   Pseudo R-squ.:                  0.2460\n",
       "Time:                        06:20:01   Log-Likelihood:                -41.898\n",
       "converged:                       True   LL-Null:                       -55.564\n",
       "Covariance Type:            nonrobust   LLR p-value:                 1.161e-06\n",
       "====================================================================================\n",
       "                       coef    std err          z      P>|z|      [0.025      0.975]\n",
       "------------------------------------------------------------------------------------\n",
       "Intercept           -3.8339      0.749     -5.120      0.000      -5.301      -2.366\n",
       "Artist_Followers  6.066e-08   1.48e-08      4.101      0.000    3.17e-08    8.97e-08\n",
       "Speechiness        -13.3199      7.255     -1.836      0.066     -27.540       0.900\n",
       "====================================================================================\n",
       "\"\"\""
      ]
     },
     "execution_count": 52,
     "metadata": {},
     "output_type": "execute_result"
    }
   ],
   "source": [
    "best_mod = smf.logit('y ~ Artist_Followers + Speechiness', data=df_train).fit()\n",
    "best_mod.summary()"
   ]
  },
  {
   "cell_type": "code",
   "execution_count": 53,
   "metadata": {},
   "outputs": [
    {
     "name": "stdout",
     "output_type": "stream",
     "text": [
      "the expected log odds for the Artist is Taylor Swift is [-3.8339 + 6.066e-08*Artist_Followers-13.3199*Speechiness]\n"
     ]
    }
   ],
   "source": [
    "#best logit regression --- log(phat/1-phat) = beta0 + beta1X\n",
    "print('the expected log odds for the Artist is Taylor Swift is [-3.8339 + 6.066e-08*Artist_Followers-13.3199*Speechiness]')"
   ]
  },
  {
   "cell_type": "markdown",
   "metadata": {},
   "source": [
    "### Non-Zero Slope (Coefficient Inferences)\n",
    "\n",
    "- the significant level is 5% = 0.05\n",
    "- using the result table above"
   ]
  },
  {
   "cell_type": "code",
   "execution_count": 54,
   "metadata": {},
   "outputs": [
    {
     "name": "stdout",
     "output_type": "stream",
     "text": [
      "Ho: beta-artist_followers = 0; Ha: beta-artist_followers /= 0\n",
      "From the table above, we can see a p value that is close to 0, which means that we have efficient evidence to reject the null hypothesis\n",
      "Therefore, the slope of Artist_Followers in the population level is non-zero\n"
     ]
    }
   ],
   "source": [
    "#Hypothesis Test for the slope of [Artist_Followers] is non-zero\n",
    "print('Ho: beta-artist_followers = 0; Ha: beta-artist_followers /= 0')\n",
    "print('From the table above, we can see a p value that is close to 0, which means that we have efficient evidence to reject the null hypothesis')\n",
    "print('Therefore, the slope of Artist_Followers in the population level is non-zero')"
   ]
  },
  {
   "cell_type": "code",
   "execution_count": 55,
   "metadata": {},
   "outputs": [
    {
     "name": "stdout",
     "output_type": "stream",
     "text": [
      "Ho: beta-Speechiness = 0; Ha: beta-Speechiness /= 0\n",
      "From the table above, we can see a p value that is close to 0.066 (p > alpha), which means that we do NOT have efficient evidence to reject the null hypothesis\n",
      "Therefore, the slope of Speechiness in the population level is zero\n"
     ]
    }
   ],
   "source": [
    "#Hypothesis Test for the slope of [Speechiness] is non-zero\n",
    "print('Ho: beta-Speechiness = 0; Ha: beta-Speechiness /= 0')\n",
    "print('From the table above, we can see a p value that is close to 0.066 (p > alpha), which means that we do NOT have efficient evidence to reject the null hypothesis')\n",
    "print('Therefore, the slope of Speechiness in the population level is zero')"
   ]
  },
  {
   "cell_type": "markdown",
   "metadata": {},
   "source": [
    "### ROC & AUC"
   ]
  },
  {
   "cell_type": "code",
   "execution_count": 56,
   "metadata": {},
   "outputs": [],
   "source": [
    "#plot fuction\n",
    "def plot_roc(fpr, tpr,auc, lw = 2):\n",
    "    plt.plot(fpr, tpr, color = 'darkorange', lw =lw,\n",
    "              label = 'ROC curve (area = ' + str(round(auc, 3))+ ')')\n",
    "    plt.plot([0,1], [0, 1], color = 'navy', lw = lw, linestyle = '--')\n",
    "    plt.xlabel('False Positive Rate')\n",
    "    plt.ylabel('True Positive Rate')\n",
    "    plt.title('ROC Curve')\n",
    "    plt.legend(loc=\"lower right\")\n",
    "    plt.show()"
   ]
  },
  {
   "cell_type": "code",
   "execution_count": 57,
   "metadata": {},
   "outputs": [
    {
     "data": {
      "image/png": "[encoded data removed]",
      "text/plain": [
       "<Figure size 432x288 with 1 Axes>"
      ]
     },
     "metadata": {},
     "output_type": "display_data"
    }
   ],
   "source": [
    "#roc curve for testing data\n",
    "fpr_pew, tpr_pew, score_pew = roc_curve(y_true = df_test['y'], y_score = best_mod.predict(exog=df_test))\n",
    "auc_pew = roc_auc_score(y_true = df_test['y'], y_score = best_mod.predict(exog=df_test))\n",
    "plot_roc(fpr_pew, tpr_pew, auc_pew)"
   ]
  },
  {
   "cell_type": "markdown",
   "metadata": {},
   "source": [
    "AUC conclusion\n",
    "- Because the AUC is somewhat high (ie. closer to 1 [auc = 0.956]), this tells us that there does exist some predictive probability threshold that gets somewhat close to giving us the ideal scenario of a model with a false positive rate of 0 and a true positive rate of 1 with new data."
   ]
  },
  {
   "cell_type": "markdown",
   "metadata": {},
   "source": [
    "### Picking the Best Threshold"
   ]
  },
  {
   "cell_type": "code",
   "execution_count": 59,
   "metadata": {},
   "outputs": [],
   "source": [
    "#threshold function\n",
    "def tpr_fpr_thresh(y, pred_prob, thresh):\n",
    "    yhat = 1*(pred_prob >= thresh)\n",
    "    tn, fp, fn, tp = confusion_matrix(y_true=y, y_pred=yhat).ravel()\n",
    "    tpr = tp / (fn + tp)\n",
    "    fpr = fp / (fp + tn)\n",
    "    return pd.DataFrame({'threshold':[thresh], 'tpr':[tpr], 'fpr':[fpr]})"
   ]
  },
  {
   "cell_type": "code",
   "execution_count": 60,
   "metadata": {},
   "outputs": [
    {
     "name": "stdout",
     "output_type": "stream",
     "text": [
      "   threshold  tpr  fpr\n",
      "0        0.0  1.0  1.0\n",
      "   threshold  tpr       fpr\n",
      "0       0.01  1.0  0.522124\n",
      "   threshold  tpr       fpr\n",
      "0       0.02  1.0  0.300885\n",
      "   threshold  tpr       fpr\n",
      "0       0.03  1.0  0.230088\n",
      "   threshold  tpr       fpr\n",
      "0       0.04  1.0  0.185841\n",
      "   threshold  tpr       fpr\n",
      "0       0.05  1.0  0.150442\n",
      "   threshold  tpr       fpr\n",
      "0       0.06  1.0  0.150442\n",
      "   threshold  tpr       fpr\n",
      "0       0.07  1.0  0.132743\n",
      "   threshold  tpr       fpr\n",
      "0       0.08  1.0  0.123894\n",
      "   threshold  tpr       fpr\n",
      "0       0.09  1.0  0.088496\n",
      "   threshold  tpr       fpr\n",
      "0        0.1  1.0  0.061947\n",
      "   threshold  tpr       fpr\n",
      "0       0.11  1.0  0.044248\n",
      "   threshold  tpr       fpr\n",
      "0       0.12  1.0  0.044248\n",
      "   threshold  tpr       fpr\n",
      "0       0.13  1.0  0.044248\n",
      "   threshold   tpr       fpr\n",
      "0       0.14  0.75  0.044248\n",
      "   threshold   tpr       fpr\n",
      "0       0.15  0.75  0.044248\n",
      "   threshold  tpr       fpr\n",
      "0       0.16  0.5  0.044248\n",
      "   threshold  tpr       fpr\n",
      "0       0.17  0.0  0.044248\n",
      "   threshold  tpr       fpr\n",
      "0       0.18  0.0  0.044248\n",
      "   threshold  tpr       fpr\n",
      "0       0.19  0.0  0.044248\n",
      "   threshold  tpr       fpr\n",
      "0        0.2  0.0  0.035398\n",
      "   threshold  tpr       fpr\n",
      "0       0.21  0.0  0.035398\n",
      "   threshold  tpr       fpr\n",
      "0       0.22  0.0  0.035398\n",
      "   threshold  tpr       fpr\n",
      "0       0.23  0.0  0.035398\n",
      "   threshold  tpr       fpr\n",
      "0       0.24  0.0  0.035398\n",
      "   threshold  tpr       fpr\n",
      "0       0.25  0.0  0.035398\n",
      "   threshold  tpr       fpr\n",
      "0       0.26  0.0  0.035398\n",
      "   threshold  tpr       fpr\n",
      "0       0.27  0.0  0.026549\n",
      "   threshold  tpr       fpr\n",
      "0       0.28  0.0  0.026549\n",
      "   threshold  tpr       fpr\n",
      "0       0.29  0.0  0.017699\n",
      "   threshold  tpr       fpr\n",
      "0        0.3  0.0  0.017699\n",
      "   threshold  tpr       fpr\n",
      "0       0.31  0.0  0.017699\n",
      "   threshold  tpr       fpr\n",
      "0       0.32  0.0  0.017699\n",
      "   threshold  tpr       fpr\n",
      "0       0.33  0.0  0.017699\n",
      "   threshold  tpr       fpr\n",
      "0       0.34  0.0  0.017699\n",
      "   threshold  tpr       fpr\n",
      "0       0.35  0.0  0.017699\n",
      "   threshold  tpr       fpr\n",
      "0       0.36  0.0  0.017699\n",
      "   threshold  tpr       fpr\n",
      "0       0.37  0.0  0.017699\n",
      "   threshold  tpr       fpr\n",
      "0       0.38  0.0  0.017699\n",
      "   threshold  tpr       fpr\n",
      "0       0.39  0.0  0.017699\n",
      "   threshold  tpr       fpr\n",
      "0        0.4  0.0  0.017699\n",
      "   threshold  tpr       fpr\n",
      "0       0.41  0.0  0.017699\n",
      "   threshold  tpr       fpr\n",
      "0       0.42  0.0  0.017699\n",
      "   threshold  tpr      fpr\n",
      "0       0.43  0.0  0.00885\n",
      "   threshold  tpr      fpr\n",
      "0       0.44  0.0  0.00885\n",
      "   threshold  tpr      fpr\n",
      "0       0.45  0.0  0.00885\n",
      "   threshold  tpr      fpr\n",
      "0       0.46  0.0  0.00885\n",
      "   threshold  tpr      fpr\n",
      "0       0.47  0.0  0.00885\n",
      "   threshold  tpr      fpr\n",
      "0       0.48  0.0  0.00885\n",
      "   threshold  tpr      fpr\n",
      "0       0.49  0.0  0.00885\n",
      "   threshold  tpr      fpr\n",
      "0        0.5  0.0  0.00885\n",
      "   threshold  tpr      fpr\n",
      "0       0.51  0.0  0.00885\n",
      "   threshold  tpr      fpr\n",
      "0       0.52  0.0  0.00885\n",
      "   threshold  tpr      fpr\n",
      "0       0.53  0.0  0.00885\n",
      "   threshold  tpr  fpr\n",
      "0       0.54  0.0  0.0\n",
      "   threshold  tpr  fpr\n",
      "0       0.55  0.0  0.0\n",
      "   threshold  tpr  fpr\n",
      "0       0.56  0.0  0.0\n",
      "   threshold  tpr  fpr\n",
      "0       0.57  0.0  0.0\n",
      "   threshold  tpr  fpr\n",
      "0       0.58  0.0  0.0\n",
      "   threshold  tpr  fpr\n",
      "0       0.59  0.0  0.0\n",
      "   threshold  tpr  fpr\n",
      "0        0.6  0.0  0.0\n",
      "   threshold  tpr  fpr\n",
      "0       0.61  0.0  0.0\n",
      "   threshold  tpr  fpr\n",
      "0       0.62  0.0  0.0\n",
      "   threshold  tpr  fpr\n",
      "0       0.63  0.0  0.0\n",
      "   threshold  tpr  fpr\n",
      "0       0.64  0.0  0.0\n",
      "   threshold  tpr  fpr\n",
      "0       0.65  0.0  0.0\n",
      "   threshold  tpr  fpr\n",
      "0       0.66  0.0  0.0\n",
      "   threshold  tpr  fpr\n",
      "0       0.67  0.0  0.0\n",
      "   threshold  tpr  fpr\n",
      "0       0.68  0.0  0.0\n",
      "   threshold  tpr  fpr\n",
      "0       0.69  0.0  0.0\n",
      "   threshold  tpr  fpr\n",
      "0        0.7  0.0  0.0\n",
      "   threshold  tpr  fpr\n",
      "0       0.71  0.0  0.0\n",
      "   threshold  tpr  fpr\n",
      "0       0.72  0.0  0.0\n",
      "   threshold  tpr  fpr\n",
      "0       0.73  0.0  0.0\n",
      "   threshold  tpr  fpr\n",
      "0       0.74  0.0  0.0\n",
      "   threshold  tpr  fpr\n",
      "0       0.75  0.0  0.0\n",
      "   threshold  tpr  fpr\n",
      "0       0.76  0.0  0.0\n",
      "   threshold  tpr  fpr\n",
      "0       0.77  0.0  0.0\n",
      "   threshold  tpr  fpr\n",
      "0       0.78  0.0  0.0\n",
      "   threshold  tpr  fpr\n",
      "0       0.79  0.0  0.0\n",
      "   threshold  tpr  fpr\n",
      "0        0.8  0.0  0.0\n",
      "   threshold  tpr  fpr\n",
      "0       0.81  0.0  0.0\n",
      "   threshold  tpr  fpr\n",
      "0       0.82  0.0  0.0\n",
      "   threshold  tpr  fpr\n",
      "0       0.83  0.0  0.0\n",
      "   threshold  tpr  fpr\n",
      "0       0.84  0.0  0.0\n",
      "   threshold  tpr  fpr\n",
      "0       0.85  0.0  0.0\n",
      "   threshold  tpr  fpr\n",
      "0       0.86  0.0  0.0\n",
      "   threshold  tpr  fpr\n",
      "0       0.87  0.0  0.0\n",
      "   threshold  tpr  fpr\n",
      "0       0.88  0.0  0.0\n",
      "   threshold  tpr  fpr\n",
      "0       0.89  0.0  0.0\n",
      "   threshold  tpr  fpr\n",
      "0        0.9  0.0  0.0\n",
      "   threshold  tpr  fpr\n",
      "0       0.91  0.0  0.0\n",
      "   threshold  tpr  fpr\n",
      "0       0.92  0.0  0.0\n",
      "   threshold  tpr  fpr\n",
      "0       0.93  0.0  0.0\n",
      "   threshold  tpr  fpr\n",
      "0       0.94  0.0  0.0\n",
      "   threshold  tpr  fpr\n",
      "0       0.95  0.0  0.0\n",
      "   threshold  tpr  fpr\n",
      "0       0.96  0.0  0.0\n",
      "   threshold  tpr  fpr\n",
      "0       0.97  0.0  0.0\n",
      "   threshold  tpr  fpr\n",
      "0       0.98  0.0  0.0\n",
      "   threshold  tpr  fpr\n",
      "0       0.99  0.0  0.0\n"
     ]
    }
   ],
   "source": [
    "for thresh in np.arange(0,1,.01):\n",
    "    print(tpr_fpr_thresh(df_test['y'], best_mod.predict(exog=dict(df_test)), thresh))"
   ]
  },
  {
   "cell_type": "markdown",
   "metadata": {},
   "source": [
    "Threshold Result\n",
    "- From the result of the threshold function above, we would use po = 0.12 as the threshold.\n",
    "- This threshold give use a maximum true positive rate of 1.0 and the minimum false positive rate of 0.044248 which is close to an ideal threshold (tpr = 1, fpr = 0)"
   ]
  },
  {
   "cell_type": "markdown",
   "metadata": {},
   "source": [
    "### Logistic Regression Discussion"
   ]
  },
  {
   "cell_type": "code",
   "execution_count": 61,
   "metadata": {},
   "outputs": [
    {
     "data": {
      "text/plain": [
       "(17, 28)"
      ]
     },
     "execution_count": 61,
     "metadata": {},
     "output_type": "execute_result"
    }
   ],
   "source": [
    "df_taylor.shape\n"
   ]
  },
  {
   "cell_type": "code",
   "execution_count": 63,
   "metadata": {},
   "outputs": [
    {
     "data": {
      "text/plain": [
       "(450, 28)"
      ]
     },
     "execution_count": 63,
     "metadata": {},
     "output_type": "execute_result"
    }
   ],
   "source": [
    "df_nottaylor.shape"
   ]
  },
  {
   "cell_type": "markdown",
   "metadata": {},
   "source": [
    "- Based on the parsimonious model that we found (assuming all the assumptions are met), we can accurately predict if the Artist of the Spotify song is Taylor Swift based on the Speechiness and the number of followers that the artist has.\n",
    "- Also, we found that po = 0.12 can provide us with a perfect true positive rate, that is, the predicted artist (Taylor Swift) is the true artist on Spotify with a low false positive rate of 0.044248.\n",
    "- However, limitations do exist: the prediction is restricted to this dataset. Because of the limited amount of data, this prediction model cannot be applied well in the real world. Moreover, since two of the three assumptions are not met (Linearity + No Multicollinearity), the prediction from our logistic regression may not be valid."
   ]
  },
  {
   "cell_type": "markdown",
   "metadata": {},
   "source": [
    "## Summary\n",
    "\n",
    "- Assuming the logistic assynptions are met, there is a linear reliationship between the log-odds of having Taylor Swift as the Spotify Artist in the top 200 glocal chart with two predictors that are speechiness and artist_followers. From our logistic regression research, we were able to predict if the Artist of a Spotify song on the top 200 weekly global chart is Taylor Swift based on the Speechiness and Artist_Followers. However, we have limited data and two of the three assumptions are not met (Linearity + No Multicollinearity), so the prediction from our logistic regression may not be valid."
   ]
  },
  {
   "cell_type": "markdown",
   "metadata": {},
   "source": [
    "## Future Work"
   ]
  },
  {
   "cell_type": "markdown",
   "metadata": {},
   "source": [
    "This research was focused on determining what kinds of factors can influence the ability of a song to appear in the top 200 weekly global songs on Spotify for all years. Keeping the limitation that we have discussed in the first section in mind, we may conduct further research on analyzing how a correlation might strengthen or weaken over time since our dataset includes the date and week of the year that the song received its highest position on the top 200 list. Another question we may ask ourselves to conduct further research in is whether there is a stronger correlation between the number of streams and the genre of a song or between the number of streams and the danceability of a song.\n"
   ]
  }
 ],
 "metadata": {
  "kernelspec": {
   "display_name": "base",
   "language": "python",
   "name": "python3"
  },
  "language_info": {
   "codemirror_mode": {
    "name": "ipython",
    "version": 3
   },
   "file_extension": ".py",
   "mimetype": "text/x-python",
   "name": "python",
   "nbconvert_exporter": "python",
   "pygments_lexer": "ipython3",
   "version": "3.9.12"
  }
 },
 "nbformat": 4,
 "nbformat_minor": 2
}
